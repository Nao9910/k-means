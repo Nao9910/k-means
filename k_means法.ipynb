{
  "cells": [
    {
      "cell_type": "markdown",
      "metadata": {
        "id": "view-in-github",
        "colab_type": "text"
      },
      "source": [
        "<a href=\"https://colab.research.google.com/github/Nao9910/k-means/blob/main/k_means%E6%B3%95.ipynb\" target=\"_parent\"><img src=\"https://colab.research.google.com/assets/colab-badge.svg\" alt=\"Open In Colab\"/></a>"
      ]
    },
    {
      "cell_type": "markdown",
      "metadata": {
        "id": "mDNjbqzubF0_"
      },
      "source": [
        "先頭列と先頭行がindexの状態のものを読み込む。\n",
        "（コンマ付きでも可）\n",
        "![image.png](data:image/png;base64,iVBORw0KGgoAAAANSUhEUgAAAYQAAADLCAYAAABuxOTeAAAAAXNSR0IArs4c6QAAAARnQU1BAACxjwv8YQUAAAAJcEhZcwAADsMAAA7DAcdvqGQAADvwSURBVHhe7Z3bixtJl+CPy2/zDywsi20aSXyoZDAGM4NqG0O/uKUCo2IGsWCawrM70jcMTRUYPRiqaZoV9IIwLVEs+0mznqamx8NSzIxFQUn9YAyNKcO++UEWg1I0drP/h/aczMhUXiIjI3XLVPv8cLjypsyMEyfixDXPtf94KzsD5tPimvjLmATFkbSA/FmSE2yr2OLk2hF/GYZhmE+ca3/2Z3+2sRbCH/7wB/j3f/93scf4YfmoYfmoYfmo+bd/+zf4l3/5F7HH+Pmrv/qrzbYQrl+/LrYYGSwfNSwfNSwfNbMZ946rIPls1CDs7LDCqmD5qGH5qGH5MMvCLYQUwfJRw/JRw/JRwy0ENWtvIXz22Wdiy2Jnh8ewVbB81LB81LB8mGVZmwaRMfiLv/gLsWfBNRg1LB81LB81LB813EJQs7YWgswYEOnq4zyA03fv4N3pgdhPnlTI5+AU3pFcPOECLp4cwK64JCnSoz+7cPDkFC7c8kE9+uTlI9Odiws4TYHupIY//zv4+7//e2n47wf/SVyUHCs3CGHGgEhVDebgC7j55id48/kXaBrSQWrk8+Y7uHPnzjw8+hF+uf8tfP8k2WydFvkcnL6Ab+9/gB8f2TJ6Cj/CY3hx8STRgi8V8vHrztMf4cOt5GVDpKaF8O5/w9/8zd8Ewjcv/5+4IBlW3kJQGQMiTS2Egy8+h4+vn8HrN5/DFymxCOlqQbl4/xKe/fgGbtz/MtFMnZYW1Lc3f4JHD5/By/fiGLyHl18/hZ/gPnyZoIBSqT+kO18/hO8+fpV4hYK7jNSs1CBEGQPi+vW1DVnE5AC++PwNvH4J8PL1G/g8JRYhPfIJ4eOvWPQlRxrkQxWJNz8+k8jhPTx7+BCeJSigNOvPyz/9BJBwhYKJZiUapGMMiNTUYHY/g5u/fYAJbb98nZpuo7S2EHZ3n8Dp45vw05/QgiZI8vLZhc9u/gYfTMVJH2nVH5P3v8LHG7cgJ3aTgFsIalbSQtA1BkRa+oB3v7wP8MvPopY3gQ+/paPbKDVjCJ9/6xkY/P57gNdPk639EsnLJwe3bojNFJIa/QnlJnzGTQSAO//NN6D8d/Dn4lTSLGUQ4hgDIh01mF2w7IFdur2Hn3/5LRXdRqmp4fkGBh8+/RU++55mGiWbm5OXD1UexGYKSXULweQj/JpgpSI1LYTAoPL/hP8rTiXJUi2EuMaASEUNZvdLuH/jBnz1Yl4DfvEVVvtS0G2U2hoeDQw+/BE+fvXHRGWUvHzew68fb8CtJPs9FKS6heDupmVSy0IGYRFjQKRhJSV1F93wT4278wh+SkG3UfpXmibb5E+DfMxJCI/lUygPTi8gyWUt6dWfXXjy/Veubtpk4DEENQu1EBY1BkTyNRiruyg4OJqObqP01vB2sbB7DJ//9gs4PW0JkAr5vPzanEJJ8+oPHKtAC9Uu4Nubv0CS4+5p1J/d3QM4vXgBX8FP8DTpQSgmklgGYRljQCTex0ndRSAv1N7//Av8lnC3UWr6gH2Dyu/efQ+P4Udz7n2SWTot8nn59SP47pdb8NjpdnwBj2+xfEx8uvPi+8cAPz6COwnLhkhNCyEwqGyFpFcqk3y0HeQsagz++Z//WWwB/OVf/hf413/9P2KP8cPyUcPyUcPyUfNP//RPMBgMxB7jp1wu67UQlm0Z2KR/FkSysHzUsHzUsHyYZYk0CKsyBkTqV+ImDMtHDctHDctHDQ8qq4kcVF6lMSC4BqOG5aOG5aOG5cMsy0ad7H/11X+Fn356LvYYPywfNSwfNSwfNf/4j/8IP//8s9hj/Hz55Zfxp50uA9dg1LB81LB81LB8mGXZaAvhr//6b+Ef/uF/iT3GD8tHDctHDctHzX/42/8stpgwrt29e3dGNQta5UgLW+jvuvZv307pmn+GYX73/I/Jv4otJoyNthB++OEHqNVqYo/x8/HjR7h586bYY/ywfNSwfNSwfNSQfHieGsMwDGPCBoFhGIYxYYPAMAzDmLBBYBiGYUzYIGwNU+js1WEo9ob1PehMxY6M6RSGGObg7+sd/F8D/F3gumkH6u4H4v6e8gWSYgj1Pc14Bljkt/iba9fgmjTM0ys9LCMfAenHsIP6tAfXIu+1hfKpa77VsA71YUjs7fwyHUIn7BqTdMknnkHYPYAnpxfw7kLuIIRZJxnIFcSmSQFyGbEpI5OBrNGCPVu5p5dw3juGrFTxKLiUL2NAy288MvuQP2+Ja9C4tMZwcqR6gU1ARtIfjzL03kri6S+4KKPWMUN7QhNGcI5x9x+v+4wvPrcznN+vNjC/A+MNBrRreciKSxLDLLTEdhgh10yHQxh2sGAzZbAHe3sYrmFoteAScrDfOIPZ1RFqpp/tkM+0gwbNryekP72y5Pi1kApQRB7IlGAfpbUt+qNvEA5O4eL7L+DX179Ait3KfrKYLQZfps6UunDVLeEWFeAAZwGlc4cu0JUWJeg2AA6plMDCwsoQWTh+24Oyvd2ztzEsW+NcmAwcXfnjMYCaLIP5Cy7MqEfdLnTt0KhAHo0sFAr4Nw8N9zkMAds3djmDlBYgKKOROL+lZKg0yu1Do9FAGVzB1dUZVIsFOCF5lEpY51AUhlsin9rApydhYaCeLk8tJk8lonUOI6xA0XarP4Zxy5dHUioffYPw8mt4+PBreMlOUTfGsO5VknJPnPAwNY1BM3+GmVQc8kDn0Ro0ZDU5BZkjy5igUXFnDKNdg7bhyigUpLXETeFvcstqeOqm95RqyCii/W4FTUIFDQXW6TAjq5v6LsJqeJ4WXXKMmq6CilpBb32toGZIyYNGs1TKqAt+HVIuH7P706Mv7hDRNWszGUO+4apENKpQqJIhtY8p8kiK5MNjCCmm1PUqib+SMqFayd4hTBpYe3NXYak7xNHiDN4Ha3SgUPqoGr4rw2SPe3Ccnf82+XEEbM24ZCRvIbhbPzZoKDt12NurY4OeMi7WeMUZkhm1HvYBa3h4vu5u3stIcwuBWolXroKKavqzK9c+hivcl1Qm/BUSM05OK9EVovQnpfLJ7J9AQ/TJFNqGT2esYNilcrYBJ/tCQ+zuRjSklrHtgGGdmZPJYStAHJWNybnZyhYCkzJ6cN7Hij9m5kB3BvVb5mj8wJtRHaU32lBzMgAWoIXcvDB015ZcGV2aYfA+yVXyZOMHFML7gN0theHwkpoEWFg2ICftqKWYo6HAwrSxD3Cpai2ksgaM8nG3ArRCB9zR9FdIzDgVazDwHMMQ1UJMawsB84l24wcvxMaS2BbdjScFKJyQUT2CLI0+teZydGvLsNUKGgw33EJglqcGJ4pmqDl+0HB9O8oYg3oUWkBdRRKFHB1ngwVs9hizQVK4xg+w6RTaF+wxfvOWQql0JDK4Af2WnV2xteFUlQ1o9a3jGSoAnNJAQlgNrzdWFwRrxWrluFsCjTwerniPeYMtkxWTSvl4keo3hqx2Nb0AVdFlVAGKVxbyMEHDMIQ+HpE0wOakSD5sEH7PUA3IrvGXe6h3QtmwIO85GWBeo1bNRklfC8GLEzd/kBotd+25CaNR39qmriFncJCON8U2hbBuEX+XlTvIuqoSAvXg8DwPDa0XCpsKiYWUrMuIQmi30RbIx6kEYQhULiQtcAnz+tYUzQDNDspAjgzDEJvxFVUs0yUfNghbAypa3Or4dIhZ21L2QW3e1PcMDLtq0LJ+ZJv0tRC8qFoIQaM1rz2btWbEHBA8QgOKLQfruPWrvFOjdrfGDBgrp/D6QmKzsARUKcC0gsJYOqWWgncoKKyQCukyouDpNtoe+QSmnrorTq6wyFhZqQLQbMrsQXrlwwZhCzBrrXuHcC72w6B5427FmV72wer1sGstFp7eI82upN9XC0EwrEMrdwLVagNyLVehaB6v4PETyE38hSUhKzB1C8tNIgbOWzmoYoWApotaxs0XsOCyxz9Xw7bIB6sGuUJ4ZcIOCj0f9S2DSt1C2OzE7UMY5/fn8UHdCtaz0isfNggpxjIE1+CwnzMHj08iSl+j33f1OU7h0u4i8C1KK7vXENg1In8txPzNOVyKg7+vFgKCteZ6v+K0imgm1j5KwJyCKo6P0VaWjrpoLPZCVqTSwLZsWuLQnJ2kO2t1PdA7tGCSa5jTh5PxRJJm+SwBtrzrtEivn4cTalmiLaBmAOkKzeLqUh8TtcqwdVAYX1r5imYmBbpk0ycffYNwcArv3r2Ddy++ghs3voIXtM0rltdMDipnMzNDB2sII5i4FQYVru9qBcCwBeMTq2YxvTyHQkiBOagVre4jdy2ElPkQ4MyowvkhKqyxH7KozYCzfbycptVtU+YmY4C15oawBmO7emy0oDWxpqC6KWEmb0xangxNhmNv7xJyZ7I+ZqwBXjUAzFknEVNW1wa9Ay0gs19uBE1fN5ETwtYhLEH65TMntHVpB3/FJ0Pvf4X5kgbhsVD3dQtNqVVG+Yem+1bGcEglvtEHrF84pFY+5CBnUwGbp1iOMGF8+PBBbMkwZtiknGGT0mJQmxUByLmRFfAcFuwC37USBjXrd0WsWnsZzGq1Nt5BYOB+seh9lhPwOJ3DMH/2+giVD8oiEA2Kh3jHtkoQZnxlF4QdJ4zZYOCPcIjMUX6BS9eESn8GNYU+SOXnwmg76R/UFxnbIx+jXVTHncD410IU3Pv7AcaR9r3XYqXLzJ/zx6RXPuwxLUWwRyc1LB81LB81LB817DGNYRiGcWCDwDAMw5iwQWAYhmFM2CAwDMMwJmwQGIZhGJNrd+/ene3sXIednR24ft36u67927dz8ODBA/FohmEYJk3wtNMUwdPi1LB81LB81LB81PC0U4ZhGMaBDQLDMAxjwgaBYRiGMWGDwDAMw5ikwyDQ1zU97rqmMAz1UCWDPGC5r/fvMwzDMFHEMgi7T07hgj57bX76+hQOVvTta/o8c9X8cL+NAX1wOX4PMPS5+CP/o24PRP59CnMH6wzZYJ+nKAoenwhklF3X6Hyf3fxOvH0/8iEgjgvMzwKr7kffjKdnJu1hzCZGfPaUFRC/vs6D+54q+USn16aJ1g/3earwLSufqPvpP2/9rCt/yfOHjvyokuyWj1x3tA3C7pMLeHH/Azy9cwfuYHj0I8C3L9AoiPOLM4TWuAr77tJ/OgHIO1/2l1DyeRwyoF1rg2EMYGB+938AtSLu0zmjDW3zWIr826aEmt9HgssnwrRzCGU4sWSIwTgBKGdRacX5IKiU2TLAifCsZlRh1Ow411MGyZ7nHb8KgfvR9+EPsRpQqUJRHEoWdXzofclH8YnpitSAk/w5ZN2llwe/vlKwdNSuB0XKB1Gl16aJ0g+KT9M5j/LBq02/AFL05KO6X7znbYaV5i9l/oiSHxmfQxhXzpzzZ6SvsgqF219BeLg3++bVq9k396KOqYPMH4L9PXH6i68TEVzf3Xd9o9193Pzuu/P9cmOGhgL/3w7U/hBWi/o78PRtdr+PA9mxOWb6hd4wxv0oXYvyNNu0fMLjQ3oGPvmR/wWFzwEfXvlHy0edXhabk0/U+8rOr1o+7vvpPW+b85eDIn+4idYXuXw0Wwjv4dnDh/Dsvdh1+Ai/Bo7FAVsH52/NrczRlWO9BlTbF9ve4PIulMlBVfj5NdrkJNFqNpnuIbPH0DNdPs67jhZxkv3pkoEcijToZ7cQ6n7ZGL+FWtCbuCADR1cyz1Dh90sadXyG0O8VfY3YElRqPeiHVvHckN5Xndrv9sknSj8MGL/1v3sW8kWfl79Q/PKJut+yz9s08fNXPPzyC6Ho8rAoWHxQ+eCPcP/ja3gpduNDfVp9qJz4Vi5PhzCp6DWFx8LPb/aYHNzNm01kUNDywaA9d1p9FcxtnzTkWx8m4X3gpS62YZu2L2FqcrYAzsK63aYwGVEB6eqn3JM5p3cxbMF5oRJyv6TRic/imXdKPheFe9NQfPKJSq9NE08/4qEln5Sz2vwVj2j50fP6kD8LXrOYQTg4hYvHH+Dp14ubAxheQq4RFMCwVYbjEB+n/i7avKuFMG7NB0zK2CogJ/LlY5czeR5U9vEWRlBx+qyDfYolaJxUYVS2WlpNvNYzzhMA0+CyhWlqtfSoT/Q4rE+U+kObedT/dJoDixjxicUULs8LHh+8AaTyiUqvTaPSDzzXHkHZGdi1CrwxNeQjkckn6n7LPG9drDp/6aLQL5rNaZaF9Lw85MRhN/ENAhmDL17D04fPYKneohI5qBbbNvjC/bwYxMNgYA2/bQ7aWcGTP6YTj9PqvJlxaXDZahUYA8PsdqJ71HhQOUCpS62mufP+zNEZtOEcLoXGmoOczbE1aGrQIF0TskqjOoL8PspY3DBT6mJLTdKFQoVdHzNKggOiemjGJy7TS5RysKnuECKfqPTaNFH6Qe83MI9RAXQI/UoD8jq+/EPkE3W/hZ+3JlafvzRR6VfmCK5EWXpWGUsHseMZBGEMHmLLYCljIAWb59hqasTo2hl5uoyoeY83QEWggt/ot4C66DL7Fcj361DvJDsNbbsYQuu4AIMrUSBmMqjgV8sXiKKwu0LLrp/KacXfP03dTGJTAU2xhuq+PP5bIx8d/bCOWZW5K6zMyfr5g4TLJ+p+iz0vGdaUvxClfrkIq+DEMAgHcPrFkt1EoYg+tEa8WmNVTOsyB5XRyu53u7APLcCy34Lmkbcm5vHGfmidjDFxZSBsfY0kA07ZfBFG0lG6DOxXwTdIZvfDi13MBPV+2ruJbKLiQwPIb33nSX41dVcQQoPVBWkpFVc+CRZ4sfUDGfahJ/mNn3D5+Ii6n+bzNscy+UsfbfmFoG0QDk4fw4c/LdlNFApZyK5kloUCY+zpMoKsVavKlBqQmwxhgtsTYwJ5YWQyaIUXF9PvDWxN7dkDWtb+sNOEUU0MYmb2oYoNz0N3q2ragUOz8kFSpN9j09w1qJPBEnTUxCao+MF02IJjvIvdLzqsN5202Aai4lOq1Kx1CeZ5S349W34S+Vj4jeQctXwi0mvTROoH7e7Bnn2eFlQ1e1BzBjrjy0d9v+jzm2X1+UuPMPmhPPB9Os774JXYGi33JBUY2XqBYHg0ez6ZzCaBsPw6hNmg5syXpbnd+ErKML92PofWaNdmbcPAY8VZES+gObr2eTpXo2NRE3dTwCbnSc+MwaxWnMvVltscY9ZGeTqyL5KMxSk8N2hbsvaAaemsDcHrB871NOdZHPcE17xr/G3gvG++9UblQ4TGx4J0yz5f9Kx3CZGPZO63hYZ8ItNr0/JR6QdB8+rt9y2KdUE2ceVDqO5HRJ3f8vylkT+U8vO9j0yfST6aBmE1IcogaEORM38klIAiZ53BQ2LBmltYaA18cU8lGy/wlmGRdFsSlo8alo8alo8aks9i005XSanrnT2kQ6YEXfNHtKBnBjManLHO4CExku6epcHdRStn2IfI/vJPGZaPGpaPmqTkk7xBYLYSGvPh/BwOy0cNy0dNUvJhg8AwDMOYsEFgGIZhTNggMAzDMCZsEBiGYRiTa3fv3p3t7FyHnZ0duH7d+ruu/du3c/DgwQPxaIZhGCZNXKP1AWJ77fzwww9Qq/k+d804fPz4EW7evCn2GD8sHzUsHzUsHzUkH+4yYhiGYUzYIDAMwzAmbBAYhmEYEzYIDMMwjElKDMIQ6o77Oxfk8i2Wm0C8T6JuBRmGYbaXGAZhF56cXsC7d+/McHH6BI+shmmnj//3A+4Ah60xVKtjaMX5LHghxx+yiwQNp+lqMBjmn2Cfzh3MY9Bx6j7t1JVO4KPO03fs6/QdePMa+p68OJ4I5LRpHn9ysu/6nDzGxXXOuSZCRvSdfrpnyHXu5+0FKkjx02O9RL9PZHo76OjjHEv2QfePavltHnf8vfoTL75+wuIfmX8i9I/QNAi7cHD6Pdx6/RTu3Lljhqcf7sOLixUYhWEdWtCAbrcBcLgHHftN8Xg/34Cjoy5U+t7MyCxLCbqmq0F3GECt2IaG+UUtKgwPYVw5c85HOnXH9Do8z1s+YmcGnND1bo2MOk+ZJFsGvMB6pkEOajpBpd8Q084hlOHE9MtN70NO9v0+aGvCY58TVH6iMf57h33IVapQFIfcUCZvOs8jH7tlOHQywwLpsVY03icyvd1E6aObIbTOC3hO7ArU8ts89D5ZjL/tZN+rP3Hi60ce/8j8E6F/Dn6fBfqBnOY8nz2SnpMHvz8EY1DzOckwZu02ObNpC38HNuRMwu3Qwe0MQzMEnEmkjyS/1260ixHfX1c5L6HPt8+dF1l4r486T8+nElbF5uRD+uVyTmPiPRYtrxDIX0dAF2XPU8tbdj7Z7/3HS+8owuRrHSd5ue+lJ7806Y8fXX2Sx986HpV/TKT6Z7G8P4TfPpiuKhdjCJeTCtYc+lCv10W4hFxuAoetHDQqE9dxy3n+xGlBCD8IPiuLQsFzxWDNjYKq9vbJQ7WOanTtJNRH7RD6Pb/rPvI7bDvxjjpv+YKtpeYD+RnIFfw+lYl1+TCW+UfOQr7od+TvI1U+gxHnfaLTW02YPoYdX1B+a4PKpyuJS+Aw/dHMf4rrVpV/FjQI1IX0BXx4uoyP5RIcHZWgdNSFbiMPkKduoyMolY7gqluCDP7tdvGcCEelMCHboLDG2JSqVSHfT6opvZ1MO01saqoMJnUR9CF/promqrBUnbd9wbr6pffq8+7DBCh1sY3ftP3iUvyxUnI2/0a9QQ69J7p95KtGJz02iex9ovQhnDB9jNbTFDNswXlB7gNbN17h160u/8QzCLtP4MIcVH4Bj+ED/CoOLwoNupgtgNY5jM5b1nanAx37uC+4nUT7IYWsdCu4lYMjGo5IsjTZKqZweV6Qe2eiWV5mgZeFJuRRsuukAOPLFuQaV1ZrD8vjY1+f/WYpQeOkCqNyVsS/4jjYt3gLIzxm9xEv16ePz2qPoFy3B0ItA4T1Gy8bTQ8N1vI+YfqoqkVryi8pqP++mcf6hDSThec/D1GtiNXkn3gG4f0zeGgPKr++Bd++OIUDcWoRMtQ6oBZAowqFKrUQcPvoyBxIpm2r4WBfk4dxSP8UDeD0Ky4PQ5kjOAM0MDwSHc30Es4xM0u7Hmx3pFTgVcaBQdXVMoL8PqahKHQzpS4MtLsYVo85KNgcW4OiBg1SNiHrmtlR6s7gClu4to3IHJ1BGyXpnymnC/1+YD6DCthD1OcG5EfipM1G00ODdbxPiD5G1aK15JcEZAz6WHEI67JW5T8X0a2I1eSfhccQ3r/8Gr578zl8sYxFwBpG3V2T9+9rMKXZDOOTgF9mMjaV/iEbhQiml+cA1X2FollEK5i/v5aasWLTJOp8msDa2HEBBuSrmwSTyaABuFqzgbKeQYXrbHaF+izrF5+TtMH0E3yfxdJbro9RtWMinvw2gjAGZhe4OORHL//pxH81LDeovCyZfciPL1FVLNBYQiV8kCAAdTkdCoHLIAUho7DXSX5OclqhwajC0rmGBgzf+gZhKUPWRFM46nwG9qv+QVy7X1TsbpLpBEaSAdtsvgij0FHKFRdAwz700jZorE1Ueocj1UeSxdtjUfu3uqiO3/agjNt7YRXIxOU3hHo/rJtojlb+i4z/CvOPbHpoMDyaffPq1eybR/ecY/cePZ9Nlpx26kDTTMV8LMOYT4gy2jVzmtYA/9aK7mlZxqxdK86KgTlcA990VQtzeitN05LNtUoRm582GDYVbmAddwmMZAjOND76HXinuZkybgsZG5hmvmlwUefN6XDzNDKf55set+lpg0WaAi2OWO9ny8o6T9P/LKz4zKdQS+RjEzLtj6YNOs8zSP7uaZtR6WGxOflovI8yvcPkY8k1qI9+6Dpv3NXys9hk/hpg+aQXD9l1Cv0xCcZfJ/+YhOgfQfLRX4dw79Hs+asJGgERXqExuCe5ThHkBsHAdyTloQyFBsCtZMIgBMHfSI/LDYIJ/kD6kxSxeYOgmBuOmapGSums45grG8nfWwBamOkori/WZIWe+rxZiIjz3udZbFY+mOkwU7vj79FFn3xIFvPTEvmYBeb8ejN4MqYoBMxzaGz8iq9MD4uNykfjfcLTW64/Sn30ICkQo+SHbE4+FA/7XdzBX/iHxTdMPjay+COq/BOpf5Z8EnWQQ10+LchDZX8fSplgs4mWok8aqqmmfmjp9gQaW7rmYKsceAzrUIduYOxmnbB81LB81LB81CTuIMecZXR0JDUGBI0BxBhSQErQ5QVoG2HYB42pcp8uLB81LB81Sckn2UFlZmspdV3TfJkALB81LB81ScmHDQLDMAxjwgaBYRiGMWGDwDAMw5iwQWAYhmFMrt29e3e2s3MddnZ24Pp16++69m/fzsGDBw/EoxmGYZg0keg6BMbLVs2TTgCWjxqWjxqWj5rE1yEwDMMw6YENAsMwDGPCBoFhGIYxYYPAMAzDmKTQIAyhXtf0+kEOKEK+hz6dTmE6HFruOGM63WEYhvkUWcgg7D65gHfvlnOfSQ4cOnu2wwd3KEOvV5YcpxB00ec4l5hi4W/6Xaa/e9AiZxElcuRPH9Djz90FcTnkxuB1Eo9G2SP3eVDZavo6rX3dnuPfdg593VbHKT25r5Sl9cYxdQrfJcRXsm58LMjP71w+5ATd78wv6n7u87Lfb5bo+NjopKd1jbiXc0+fDCLSwyZ5/dHMP5rxccDr606ZuefLixrpofG8BQzCAfzx/kd485vYXZgMHF1Z/lj1Q9gHn1AYl30Y49a434dzctXXb0HL46RfU+ifBKQ8hzCunDmy9TqJL0HXI3cKA6gV26Fu/CgTNuEEDPNa8kFchkN3ywxbc4fnectHMZ2n50mtC7kLLOCzxG5SUOvzsA+5ShWkr6IdH4tp5xAlYsvHcoLu8UEccT+SbxbP2079A7/fMJHxcdBPz9rAupcT3F8ujkoPhzToj0b+0Y6PDRqDbBlQQaz7GVUYNTuOvHX0S+t5bgc2OuHeN69mzx/dm31DDnIk51Uh1GOax7mFP0gcQZBHpJrlRY28BNVcnq0G5GRH7Li3t4HNO8hxo3ZOQh6pQv11mOmndv4xqPk9WMmfZz1H7gAkEfmEeJjSjY+FTD7eY+r7Rf+e2Jx89N6HUKWnG7V+uVB4/CJSpz+C0PhFxMeGfq/2oKaXHqrnkXxithCodfAL/Oml2F0lhbZj3dwBM0qQTAmOul1oVAHeFirQPSIn1laTqQl5yBlDGA7RNlbyMM5S04rbBlqE+qCNcvIt8yechXzRdrQ+hH7P79+V/O76ncRvzpn4cujGxyYDuYLf5y1hyyzqftSalvkGScqJfFR8bDadnmnVn+Xfi3wv10IdJOimRzSxDMLuk8cAPz6D92J/pYzcTqTnodwT5wNM4XIM0IYJDM2+tRZMGmdQzeegVCqJkIN8+wwakxbsJd7nmmbImPYhfyZ3LjTtNLGpuqzjoWjlXM1zNkW8zFbqYhu+aVdOSN4tgDN3F2jMzDtswTlWhpIq+6LjEy89DervnczHSKLHZIKkVX+Wfy/bYb5r3A/LM3ePrE566BDDIKyxdYCiCh9PCInU9BIgj02ESo6GC6B71bVqUOOma9ygaY4rkGe2KzxfSpumJM20IzJg1mpZicNe0PCeFyK8N5Wg0R5BuW4PJFsKOcZaiz7b0jpYFJTRSRVG5ayQdwX2F9VH6g9u5jG/JymsqPjETc+3MMJ72GMk3jEtHdKqPzr5R4cCjC9bkGtcmfKhMYJjz5jNavRL2yCspXXgFEg6Yc9jEYdoD3L7tIWCaGRhSNNLqRBCwc2hdlTLNA4dbh4EyRzBlZ0BK2P5oCAa3nM0FvKupDmZozMYoBparbxD6FcakKfBfU22q3UQH3NQuDm2Bo0NGnQnWckGYSMgY9DHgjNhV7FR8YmbnqXuDK7Mrl8L0qc2at6lZrZNrf5o5p9oRpDfn1dqM6UuDFxdlKvSL02DsL7WQaEtRs0jgtF2FfRoSPqwj6bAIkM+mbEpUKFxhUpeHCXy5rFuIw/jiTjESPErmM308hyguq+R0TKYqa3ay2x2Bd2Sf1zBHk+woWaw2ES13b7WgSo+fjB+xwUY2K1U1FeSlVfeGvcTxuAKWwbR6bFOouKz6fRMr/7o559l0NEvPfQMwsEX8PmNr+DFu3fwzgwv4Ksbn8O3uH3xZFdctCTS1kKYhduHRtjagskY8g00AmQcXLYhH3d0hTGhwSxnrUcchn3oOYPUNED61jfoRQajZjWl6dq37jGkLBy/7UEZt8MWHiZLRHz8TCcwkgzYZ/NFGJlWQOd+Q6j3k+4mEkTFZyXpKZuoEEKK9Wfh/OMhA/tVrPN69MMeV6DNKP3SR88gvPwa7ty54wqP4Kff3sB3uP3w2Yo6kTI5qPpaC9IZRgRawHARj+C8ZY0htM5pBIEJMoTO3p6nG22Ktc9yz1+guZTOg1hU6Jsnv9cRYwi0AKbZg5qrCV+q1Kx509YFMMQmfq8mBkWxdeJO99nMgHaxBgPcvkrpokJlfPzyyexDFc7h0JYPgRWgQ7PyaMVPfT9MsXoTKzop6RKJik9kevr1h/bdswGt+I9c8VeSWv0Jyz9RBPNXBi3CqIkVZCGi6bAFx5gKpvpo6Jc2svUC0WFF6xCM9qxmT5Sl+bGKNQhGW7KmYFCbFcVBWnNA1xqD9mxgX2cY1nxb93NSzEbnSRuDWc299oPmbQdEFDa33pgN2sVZ0TMvmuY92/crSuVNaWincbGmmnudgnnkqFuObOzgm78dHp8Q+dSKrnsF9Tn8fpQO4neekNQ6BCI6PnP86SmRj08f6ZzndhrpMScF+mMSln8QZXxk+oNQeedci/f1RD4iPTTkR/JZ0CAsFtQGYTBr+0oko00vbGcGvwAQEpD5exKGXPADzGS0gK0tTZV0sXmFXQKUvV9f1w3LRw3LRw3LRw3Jhz2mpYht8ug0rNcBul29Jv2KYPmoYfmoYfmoYY9pzMKUNqys2wbLRw3LR01S8mGDwDAMw5iwQWAYhmFM2CAwDMMwJmwQGIZhGJNrd+/ene3sXIednR24ft36u67927dz8ODBA/FohmEYJk3wtNMUsU3T4pKA5aOG5aOG5aOGp50yDMMwDmwQGIZhGBM2CAzDMIwJGwSGYRjGJFmDIPWBEBa8HtPkkG/l+L5YGYZhmBgGYffJhXCO4woXT2Ap9ziZHBRqg+C3zGttMDzHFL4R/BRy6fhmfOohv8fCYTeFvfm31i2izrtBQ2xf5wvWJ92jzgumZNDtc/R9fHF846woPj7c8tzDCwPiJD8SdI2kUkP+JtzPMUPSlR/N9LLePdqdo458lM9Ljf4IlO8znTvMN+OrTkut9F+B/sRqIbz5zu0kB8PDFftYZjbGtHMIZThxDC857Xb7VI4676UEXXHdPAygVmwLt4ZR5wnMPNkywIlwkmSQQ5BOZCGyHlYRHy+UIZuOPMnnbRkOPU7C67B32IdcpQpFcchPbeB7ZqJ+lXXTi9xbFlA2YjeESPlEPi9N+kOo3ocqW4cwrpxZ5zCc5c8hG2Hglem/Kv1x+ytQhXvfvJo9fyQ/pxsC/hDI10Hgo9/k2yDo+MJ2gDOHnGD4HD6EhVBHGulic99rJ9l5nat4j0Wdj8ZoF5Xfc/efp33SWBVJfs8+bny8yGQX4jyFHEVJ9DXq+cQm5aOTXoT13hR/ub8Si2j5RD1P533SKJ85Cmc6iCVHsaNiSf3Z7kHlgr9rCWtpsi4ol39+hshADmXi9dFK2D5so85HEeX0PHiefM/WpA6J00D8+HiR+QfOQr7od6y/PeilV5RcbKLlE/W8tOnPQu8j8Yu8abQNQu4W/vfZKVyI8YOL0yXHD2x6ZV/fVhaOe26H2VYo98T1zEoodU8AmtSvSTmOmrAtgLP5N9ijzquYdprYVA7vzgiet33PuvpV9+oakwg2Q/z4rB6D3INP6s4kjKg+5/Wil16rk0vU89KmP3Hfh/JXH/Jn4bJaNv11fx+jhXADbsJreCrGD55+uA8vlh1UJlY9qMxoUoLGSRVG5SwqSBaaULEcdjtEnQ9jCpfnBZ+zfjdh5wswvmxBrnFlpjeNWRyHjllskkXj4wZl2R5B2RkotQzsOFbL9S2MMA3ORH7Q6XNeL1Hppds6IHTkE/W8tOmPxvs4sywpf+UhJw7LWTb99X6vbRBefn0HHj576Qwiv3/2FH6C+/DlSpoJCzLytyTK0JO1OEbiesaBBvGyzTGcGKggBg3iNVGWc4WNOh/K9BLOUblDm76h50eQ38cWiDA6mVIXKwE96CeXoy0Wjo+XzNEZDEwZkk4eQr/SgHwMvSx1Z3B1VHJqkHS/Nj75MjGLoE6vuK2DaPlE6Ufa9EfjfTJHcGUX0JWxYtLG8umv+/stGkOQ9LfqjiHAGALd4Z80WHs7LsDgSihsJoMKc+VS2Kjz4UwvzwGq+6EFQdT5tLG6+FgytHTyCrolWb/574U4rQObT0k+QdJSAVrCIOTg1o2P8Gti804zcNTVqYHgdVSwiT0GmU5gJBnAyuaLMCKrG3VeAQ2mFRS5WH4+A/tV/yC23Q8rdhNisfhoMOxDb6lBxCQLzIj0ori9dbfesZX+tgdl3N7T7dj3yCdKP9KmP5t4n2XTX/57TYOwC08uLuD0wO4f2oWDJ4/h5pvX8FIcYbaIzD5Usbl42HEt/pl24NCs7KKGRJ3Hox1acBNcGRSh9OHnM5iDRk1sMosHToctOMa30Bu3WBeLxicoH+qC27PlSQuImj2oaXep0P3sAX5rf9hpwqhWSayio0wvrO0GWunFGgxw++pIrj9R8onSj7Tpj/p9MH6Ynh0nPel8Hcq9mhiL8stn2fSP8XvZegFpuPdo9vzVZDaZWOHV80eze7LrFKHrX4dAc2Zl6wakQWcOvGxdw/aw2Xn2xqxdK87lW6wF1x2Enjdmg3ZxVgzIWj2XOvL8oDbXB5q37kvvza9DWDQ+MvnQXHsRN9Tlml+ZMe6OrB0ZuOaTG/gs17oburfvDpuXT0R6zfGvQ1hAPkTU89KmP6r38aWn97xEPlHpvyL9SdZBDo2yt3Jw1Y22c7SsfdK4ArOCEcoQ6nWArsb90shWOfDAGk0durBJUbN81LB81LB81CTvIIdG2TVjTANOamNAlLbWGGwbwz5ETLX8tGH5qGH5qElKPls0y4hJE6UuD9SrYPmoYfmoSUo+bBAYhmEYEzYIDMMwjAkbBIZhGMaEDQLDMAxjcu3u3buznZ3rsLOzA9evW3/XtX/7dg4ePHggHs0wDMOkiWTXITAetmqedAKwfNSwfNSwfNQkvw6BYRiGSQ1sEBiGYRgTNggMwzCMCRsEhmEYxiQdBmHagbrjPm8RptDx+Aj17zMMwzBRxDMIuwdwemE52X/3jvwjiONLMr0cW19yGpJhqIcEdwE/hLrjfIOC3zG/zFF/HX/FeJiiHOm766Z86Hvp4rhg2pk75SYn4a7Ptweg79nPZW3/xk4zf3rNg/uZcZ63btTxsXC/bxyn59a9g/oYHn89+W0SHfmQfplO5iN9/0bHT+d59EVk+9zeUhXMZYmv79H6Q5Vcd/zc16/weW5/BerwaPZ8Mpk9f3TP2r/3zezVq29mjwLXhYeAPwQT+u6+67vdNoPazP058EHN/T11P+IexmA2MC+ib3+LexrtWTv8h6lis99rRxkBoIyF5Mk3BcrMFpXRLnq+p26Y31sPTwO63vN5+0hcaYToPG+T8omMD33rnuRlKZn5/XrQEgDFG3Wbvn8vjhBx5e2XH5E++eD7Dyy9cr+nHkH9UD2Pzs+/8Y/pUYNZ0edTYeP+EDz40iuW/lB8KP7z+Pj1JUj855F8tA3CvW9ezSbPH0nP6QapQcAXlcrBdzxgEDzOdebOc8zr8JzlYCPE2KSUTWdolQK2i36HRLJjcyILCB/e6/Wel6YCjwoc73nMgMoC3MK6L8XNfe1q5J0qg2AjKhoh0QjFf3/182SyCqZHkgbB//6L6s8c9fWLPI/ko91llLt1A968XrXDTGzqNEeQxy1qzni6iPA4uaCz95ujETTxr+N2LpODatswXfQZ7QIesJpN5V4Pytlj6B1nsWk07zrS9uX6iUC+gGuhH1wnP9Qy/xOr8uHrd8K+7uetmiH0e37XmSWoRDpJD3M+Hzf+izix3ybixk/mHzgL+eIIIlyAbwh/fBbVHx+hPrkXf56mQdiFz27+Bh8mu/Dk9MIaQ7g4hSe2i+WFoD6xPlROCjDGvcxRF7rdeWhUC1A9m++fFApwgn+PSvNUH5uF/jXIHo9wrwTY/jANxKDWNv23DtqWH1c6ZvlyZSxsX8Cufsk9NLaqzDNswXkh3IerQYk40esTnXaaAFH+hCOet26i4xPfWGnF20YR/1j3WRNx0jsusvit83nrRp5ey1R2pjDEsjN/JteBZZ4XY1D5I9z68o/w658ewp07d+DRjwBfvTiFhceVh5cwriznBCLvaiGMW/MBlzK2Csr09xhbC+IYDyr7QZldtiDXuLJkeAJwnA2R0RAzYjMPZ0pvdG9hBBU4Ewb4LH8OWelg4hQuzwtqb1Baz1s3uvHRJUatVxl/DflthFXLxyYsfqrnlaDRHkHZGUimArMFY+o4SJwVphe5HDbLsiw0IQ85cdjLcs+LYRBuwoefv4aX76299y+/hu/efA5fLGoRSkc+f6GYiK5uo9b5CM5b7i4jcZnNdGK2LGzyZsFmQLtmtQqMgQEG/cVWQm1ASsQemryMIL+PMhG1hkypiy0rSZOVCqc+ZsQrdY201KVWWMm5JnN0Bm04h0t/CTG9xKNhTV1E83nrRjs+mmjX6qPiHyW/DbFq+TiExC/qebQ/wGLSmll4CP1KA/L+MiMJVple5HLYNoiVMZRlFbglnxdv2ulayaCNsLuIMDFFF9G8y0hc5mLk6TKi7o8WACoCFfxGvwUG/s3sVyDfR6PSSXIa2pYiCifyex1ZkGkyvTwHqO7L77eG560Pf/80dcOJzQCarQON+Cvl9ztg8fhh+dG1Wruz2RVWNmXjCpsnPD5x9CdIWAVu2edpGoT38PMvALc8bRR7XEHsrhK0cmNsHrrzj8zHaNWs+YtBZcOAfbxmH1qAZb8FzbNvTczjjf2k61RpIgP7VYAxWUwHe1xB7GIhVu8v020jz5A0mF2Q5tJln7du3PGhAbm3PvnR+Zq8qT7sQ++tb53MW6s7cz7ZQS/+4fJLmtUUwPrxi3geyTx00HVzyOMTU39isOzztFsI79Ei3Hx8CgdiIHn34I/wFfwCP4supFUybI0hH1WdMsaeLiPIWrWqTKkBuckQyE5NjAnex2p6ZzIZidX8dMmgRaBZXPakremwBcdQhX0hpGG96cguCLbGaEGbs+qF9mlhm124UfdfE0Y1/6Co3+jMUT9v00THp1Spofw6Qn7W+Z5z3icfrM1ZNVc7GNAuWl2b9mQHvfiHy2+z6KZ3GH79sQmLX/TzaOHant0LQAvimj2oJTzwHh6fmPqDlQWKvzPDEplia7Lc8xfoiz7PhWy9QGh49Hz2ajKZTSi8ej57dE9yjSJ0Q9YhzBeQ2AswxK4C97oEo12btQ3rt/biFPs8navRsbgToRNg4/OkSfb2Wg6aF+/IiOYoi+OeYM/1tha2kKwdDPxNcX7tfJGQm7C501HPs9iofDTiQ7ply6/oWe8ikY8H/zoEvfiHy88iVfJB3fLGBYOzHiFMPor4RaYHydQ+j2WIV3Amm1+HoE6vWPrji783v9os+jwLkk88g7BkUBuEwaxtLiqzDish4ZjCEkrgzlz2gjX3Yhi0Bjq3TZrNK+wS+BYObgKWjxqWjxqWjxqST/KDytictprNJTiicQKdNl6mBF2zr5UW9GAT/Mo1vmCPxLtnaXB30coZ9q3PTzFyWD5qWD5qkpJPimYZMduEbJCfmcPyUcPyUZOUfNggMAzDMCZsEBiGYRgTNggMwzCMCRsEhmEYxuTa3bt3Zzs712FnZweuX7f+rmv/9u0cPHjwQDyaYRiGSRPXaH2A2F47P/zwA9RqNbHH+Pn48SPcvHlT7DF+WD5qWD5qWD5qSD7cZcQwDMOYsEFgGIZhTNggMAzDMCZsEBiGYRiTZA3CdOh8fjnIFDoqv6nkTIQd5zMMw6wMTYNwAKfkWF8SThd2qoxksgAt+s457Qyh7jgQoZCF457bqQgFl8u4UhdOxofit2Qf3NcFQ+DT6580flnL5DRFmc79VJMT/nDjTZABn18fdIKufz/6tn2yPrB15IPQd/cpTjF9CYfGjxw60XfwzWfZ+YLQfJ+EkMdn1fqDRMjb/bw9FEycNFkLUfoRmt4yVPKJpx+q/KVpEF7C13fumM715+E7ePPbT/Cnl+KShSC3d2eQ74vI1QaWAxFjAO2B5UB/NjNgIJzp+/0il7onAOTkxdym81YY1IrQNub7swFPdfVSgq4tGycMoFZsO24ep51DKMOJ6ZeazpMTfqkPVxPK/Icwrpw59/M7Xde/H7mbLOC7iN1EiJYPRhj2DvuQq1Qh3quGxQ8zdbYMcCJ03SAHRh0hH433SQx5fFatP1HypkKu6TzPwK0yHCbZgxCpH6r09hMlnzj6EZG//D4LdMO9b17Nnj+SnwsLUn8IDraPA/+2MWu3430Y3O08xySBb4svQpLfazfabsdE5GfC75xFdkyF21mH/v2s96BzQUcf6ZGPC/K/4fa9EUFY/Og4VojEXjSy90lCPvL46Kd3OCHOXqTylt07+PtE9CdEP+Kmd5AQ+Qhk+kHI08tiCX8IB/DH+78s2TogN3F18BrxieU67loZer2yaPZk4fjY3g6rYTDL4XcCn4Fcwe9zmYjpM9fxaat7P/97pIVVvVf4fcgXbk37A/hpkVPYe6xaf6KQ+VfOQr7odyyfHuKldwih8glLl2i9Wcgg7D55DPDjM1jOnTI5t2kAHO65jELOcniDzZ22001k4LboSrK7jKYd2HP6yfxGYopmxSuo6WQkthgZ004Tm65e/7NWd5ztx5aarC2AM91vtNP1fcifze+pcz/Ze6SBVb1X+H1sX7iufuJAZWlOWuSkeo9V68/vi3jpHUQtn7B00dGbBQzCLnx5/yO8Xqp1YENG4QqEn3EP4+OsKPCxheDxpo/YXtHIWNR8VnJ6CWM0LN5bFqSOpxliCpfnBYl3phI0TqowKlM6ZKEJFccBfyiOoabr85gKbqLul5Zar58w+cQlKn4FGF+2INe4Mis/1Od+LO1zX9X7LEtUfFatPyrwWe0RlJ2BZMsAjbGVkl5009uFlnzC9EMvf8U3CLtfwn34gLXwFTN139E3SGK6y9RjenkOeV+sjTG3EEJBA4oSCzQ9aZAu2xzDCQ3OGzRI14RsVJedY6hncFYZewYRo+6XllpvgBD5xCU6fiPI72MNWlyQKXVhUOtB3y/wFb3PskTFZ9X6E0Xm6AwG5jOowDyEfqUB+VRne830dqMjn9D8rJe/YhuE3S/vA/zy85LdRS6mrrUI+Uno9KlrOvPr0IIejk98LQ5qnsXsu/yEIAMK1X2fomBt4rgAA/JVTScyNBvsKlphXXgVPOp+erWXJJDLJy6ri99q3mdZouKzav3RwXqGVYm8gm5JNq7w+yFMPqH5WVP/YhuE3K0b8PHXlZkDjEAf+oaISO7IahkMajQALxKXppHWoB0ZmyHUD7FG4m9NpKRGlVZocKvgzzXYWhtJBqyy+SKMFhmli7rfsA+9t+41J1k4ftuDMm4nvfhQKp+4RMYvA/tV8A3C2v3MYlewkvdZlqj4rFp/FoHeMXTQNWn00zsuUv2Ikb9iGoRd+Ozmb/BhZf1FU7gc503LZYxd/V5o/RqTOtSH2Hqo12HS6ErHGWCKtYDeOVxOaXCmD5UzrJGIU/hDK/LZc6imsSsiFYQoYWYfqmhGDzuuxT3U+jIrHyRJmiGGsnVabUPc34OOa+XRFOVf7tWsNI26H6a3bfytYEC7WIMBbl9JE35TLJpJffLRiF8GS4gRrakRApoOW3CMUvP2u6+m0FiaqPisWn80oC6qPft5tCCs2YNaivO9Or0XlU+IfsTIXzENQg5u3fgIK2sgoBDGeWzeoLLQoNM8blMwjWcfWw/015gLwgF/U29NoGGg6h0eAlQakHXHzRHCFexnpzBFo4H/GA9hzWoa7D+D6tjuk8WAra/q2XwCQK5adC24KcHR2QmMm/ZEgGuQbQIMDNtAR98vnSi6HZwKxzG8tWtfroVUXvloQP3DNDEn65JfYBbJtnSDrFp/kAh50xhC9bxsHccfj6sGxBh6XD0R7xuV3rHlY7IC/ZAtIFtX6HoWphmztlhAZrTb1l9aQIbHau3BzHCv5DAGs3Ybj9NiCvM47tdciz3ofK04QwGSs59AKBbxHC1coYekmCQXXsUmgcV+LB81LB81LB81JB/2mJYitsmjE3XlQddfQ1kvLB81LB81LB817DGNWZjShpV122D5qGH5qElKPmwQGIZhGBM2CAzDMIwJGwSGYRjGhA0CwzAMY3Lt7t27s52d67CzswPXr1t/17V/+3YOHjx4IB7NMAzDpAmedpoitmlaXBKwfNSwfNSwfNR8/PgR/j8s9XPwYi6i5AAAAABJRU5ErkJggg==)\n",
        "\n",
        "Excelで開いていたCSVの場合、SHIFT-JISを選択する。\n",
        "\n",
        "クラスター数はclister_numに自然数を入力。\n",
        "\n",
        "「ランタイム」→「すべてのセルを実行」で、終わったら左のファイルから\n",
        "- 「class_all.csv」（インポートされたファイルの一番右の列にクラスター番号を付加）\n",
        "- 「class_list.csv」（クラスター番号のみ出力）\n",
        "- 「class_average.csv」（各クラスターの平均値を出力）\n",
        "\n",
        "をダウンロード。"
      ]
    },
    {
      "cell_type": "code",
      "execution_count": null,
      "metadata": {
        "id": "3nqSy6SKJY-b"
      },
      "outputs": [],
      "source": [
        "# すでに同名のファイルが読み込まれている場合は削除\n",
        "import os\n",
        "if \"file_name\" in locals():\n",
        "  os.remove(\"/content/\"+str(file_name))\n",
        "  print(\"file removed\")\n",
        "else:\n",
        "  pass\n",
        "\n",
        "# CSV読み込み\n",
        "from google.colab import files\n",
        "uploaded = files.upload()\n",
        "file_name = list(uploaded.keys())[0]"
      ]
    },
    {
      "cell_type": "code",
      "execution_count": 2,
      "metadata": {
        "id": "N-ZiAYQ5Wvwo",
        "cellView": "form"
      },
      "outputs": [],
      "source": [
        "#@title クラスター数\n",
        "# クラスター数の設定、直接入力か右に入力\n",
        "cluster_num = 6 #@param {type:\"integer\"}"
      ]
    },
    {
      "cell_type": "code",
      "source": [
        "#@title 入力する文字エンコード\n",
        "input_type = \"SHIFT-JIS\" #@param [\"SHIFT-JIS\", \"UTF-8\"]"
      ],
      "metadata": {
        "cellView": "form",
        "id": "c7dsMcVwqeF3"
      },
      "execution_count": 7,
      "outputs": []
    },
    {
      "cell_type": "code",
      "source": [
        "#@title 出力する文字エンコード\n",
        "output_type = \"SHIFT-JIS\" #@param [\"SHIFT-JIS\", \"UTF-8\"]"
      ],
      "metadata": {
        "cellView": "form",
        "id": "k9oIoTvcq0xr"
      },
      "execution_count": 8,
      "outputs": []
    },
    {
      "cell_type": "code",
      "execution_count": null,
      "metadata": {
        "id": "6Ceq3mvv-y3p"
      },
      "outputs": [],
      "source": [
        "# ライブラリのインポート\n",
        "import pandas as pd\n",
        "from sklearn.cluster import KMeans\n",
        "\n",
        "# データの読み込み\n",
        "df = pd.read_csv( file_name , encoding=input_type, thousands=\",\", index_col=0)\n",
        "\n",
        "# KMeans法の実行\n",
        "clu = KMeans(n_clusters= cluster_num)\n",
        "df[\"class\"] = clu.fit_predict(df)\n",
        "df=df.replace({\"class\": {0: int(cluster_num)}}) #1スタートにする\n",
        "print(df)\n",
        "\n",
        "# クラス分け結果の出力 class_all.csv\n",
        "df.to_csv ( \"class_all.csv\" , encoding=output_type)\n",
        "\n",
        "# クラス分け結果のみ出力 class_list.csv\n",
        "df[\"class\"].to_csv ( \"class_list.csv\" , encoding=output_type)\n",
        "\n",
        "# 各グループの平均値 class_average.csv\n",
        "print(\"各グループの平均値\")\n",
        "print(df.groupby(\"class\").mean())\n",
        "a=df.groupby(\"class\").mean()\n",
        "a.to_csv(\"class_average.csv\",encoding=output_type)"
      ]
    },
    {
      "cell_type": "code",
      "source": [
        "# 各クラスターのデータ数を表示\n",
        "for num in range(1,cluster_num+1):\n",
        "  sum=(df[\"class\"] == num).sum()\n",
        "  print(f\"{num}:{sum}\")"
      ],
      "metadata": {
        "id": "5RF2bkuJTiW5"
      },
      "execution_count": null,
      "outputs": []
    }
  ],
  "metadata": {
    "colab": {
      "collapsed_sections": [],
      "name": "k-means法.ipynb",
      "provenance": [],
      "authorship_tag": "ABX9TyOzI5Bm2tm6H7r/PTS8m3F2",
      "include_colab_link": true
    },
    "gpuClass": "standard",
    "kernelspec": {
      "display_name": "Python 3.9.12 ('base')",
      "language": "python",
      "name": "python3"
    },
    "language_info": {
      "name": "python",
      "version": "3.9.12"
    },
    "vscode": {
      "interpreter": {
        "hash": "6155d337695d8a8b6f81de1b148fcc5cd5fd9f019d4a85ecf2e0c2616356c7fb"
      }
    }
  },
  "nbformat": 4,
  "nbformat_minor": 0
}