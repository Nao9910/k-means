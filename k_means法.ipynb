{
  "cells": [
    {
      "cell_type": "markdown",
      "metadata": {
        "id": "view-in-github",
        "colab_type": "text"
      },
      "source": [
        "<a href=\"https://colab.research.google.com/github/Nao9910/k-means/blob/main/k_means%E6%B3%95.ipynb\" target=\"_parent\"><img src=\"https://colab.research.google.com/assets/colab-badge.svg\" alt=\"Open In Colab\"/></a>"
      ]
    },
    {
      "cell_type": "markdown",
      "metadata": {
        "id": "mDNjbqzubF0_"
      },
      "source": [
        "先頭列と先頭行がindexの状態のものを読み込む。\n",
        "（コンマ付きでも可）\n",
        "\n",
        "入力と出力はExcelで開くことができるSHIFT-JISを想定。\n",
        "クラスター数はclister_numに自然数を入力。\n",
        "\n",
        "「ランタイム」→「すべてのセルを実行」で、終わったら左のファイルから\n",
        "- 「class_all.csv」（インポートされたファイルの一番右の列にクラスター番号を付加）\n",
        "- 「class_list.csv」（クラスター番号のみ出力）\n",
        "- 「class_average.csv」（各クラスターの平均値を出力）\n",
        "\n",
        "をダウンロード。\n",
        "\n",
        "![image.png](data:image/png;base64,iVBORw0KGgoAAAANSUhEUgAAAYQAAADPCAYAAAD1VabIAAAAAXNSR0IArs4c6QAAAARnQU1BAACxjwv8YQUAAAAJcEhZcwAADsMAAA7DAcdvqGQAADtkSURBVHhe7Z3NaxtJt/BPnN39E95FEgZJXGQFsojhIjMEZpORDUHhgnkhDCa8ID2bYEPQIuAwDAhmIcKV8OaRYRjMkMuL4SXCYOlZhIEhyOssFHFRiyGZf0TvOdVf1d3VVa3Pbk/OD8pWd3W1qk6fqlNfrXPrf93Lz4D5erjl/GcEUXGkLaBwdeQHdqO44Y9ry/nPMAzDfOWwQWAYhmEEt/7t3/5tI1NG//7v/w7/8z//4xwxYVg+elg+elg+elg+elz5bGyEcPv2becTo4Llo4flo4flo4flo8eVz8YMwtYWPxAdLB89LB89LB89LB89rnx4hJARWD56WD56WD56WD56XPmszSB88803ziebrS1ev9bB8tHD8tHD8tHD8tHjymctUiJj8B//8R/OkQ1baD0sHz0sHz0sHz0sHz2ufFZuEFTGgMjWHN5TOP34ET6ePnWO0ycT8nl6Ch9JLoFwCZcvn8K2c0laZEd/tuHpy1O4lOWDevTVy0elO5eXcJoB3SGyW7/scPkyXSm58lmpQYgzBkSmLPTT7+Duh9/gw7ffoWnIBpmRz4ef4MGDB3549iv88ehH+Dllhc2KfJ6evoUfH32GX5+5MnoFv8JzeHv5MtWGLxPyCevOq1/h8730ZUNktn454cmbT84F6eDKZ2UGQWcMiOz08MgefAtffn8Dv3/4Fr7LiEXIknwCfHoHb379AHcefZ9qpc5KD+/Hu7/Bsydv4J1Xfz/Buxev4Dd4BN+nKKBM6g/pzosn8NOXH1LvUGS2fmUEVz4rMQgmY0Dcvr2W5YoFeArfffsBfn8H8O73D/BtRixCduQTw5c/selLjyzIhzoSH359o5DDJ3jz5Amk2cnLsv68++dvACl3KDJfv1LGlc/SUkpiDIjMWOjtb+DuX59hQp/f/Z6ZaaOs9mC2t1/C6fO78Ns/0YKmSPry2YZv7v4Fn4XiZI9M94A//Qlf7tyDgnOYBpmWTwZw5bOUQUhqDIiszOFtf/8I4I9/Ob28CXz+KxvTRpmZ4/z2x8Bi188/A/z+Kt3eL5G+fApw747zMYNkRn9iuQvfpDhEyGr9+vjxNBMdUlc+CxuEeYwBkQ0LvQ22PXBbt0/wrz/+ysS0UWZ6MKFFryev/oRvfqadRl/7HDB1HpyPGST7PeAv8GeKnYqs1q8HD15AumNvG1c+CxmEeY0BkQkLvf09PLpzB35461votz9gty8D00aZ7eHRwuCTX+HLD/9IVUbpy+cT/PnlDtxLc95DQ2b1h5CnaVMi0/LJAK585jYIixgDIgtvCtJ00Z2IhX4Gv2Vg2ij7b1KmO+TPgnzEJoTn6i2UT08vIc3XWrKrP9vw8ucfpGnadMh+/UoXVz5zSWlRY0Ckb6Ht6aLo4mg2po2y24PZxsbuOXz71x/gzbSlQCbk8+6F2EJJ++qfelaBXlS7hB/v/gFprrtnUX+2t5/C6eVb+AF+g1cZ2WfPqHHlk9ggLGMMiNTn8Gi6CNSN2qd//QF/pTxtlJk5zsii18/wHH4Ve+/T7eFlQz7vXjyDn/64B8+9ace38Pwey0cQ0p23Pz8H+PUZPEhZNkR265cdsrJGl8hBzqLG4L//+7+dTwD/+Z//G/7f//u/zhEThuWjh+Wjh+Wjh+Wjx5WPcYSw7MjAJTMWOqOwfPSwfPSwfPSwfPS48tEahFUZA4LfFNTD8tHD8tHD8tHD8tHjyidWSqs0BgRbaD0sHz0sHz0sHz0sHz2ufDbmZP+HH/4P/PbbL84RE4blo4flo4flo4flo8eVz8bGUWyh9bB89LB89LB89LB89Ljy2ZhB4H3Aelg+elg+elg+elg+elz53Hr4cGdGb6nRCfpPlmIdx/fvZ/Sdf4ZhGEawsTWE//qv/4JareYcMWG+fPkCd+/edY6YMCwfPSwfPSwfPa58eC8WwzAMI2CDwDAMwwjYIDAMwzACNggMwzCMgA3CjWAKnd06DJyjQX0XOlPnQMV0CgMMPpi+3sG/CcB0keumHajLX4jHu9oMpMUA6rsJyxlhkbSY5tYtuKUM/vPKDsvIx4H0Y9BBfdqFW8Z73UD51BPmalCH+iCm9G59mQ6gE3eNIHvySW4Qtp/Cy9NL+HipdhDCrJMcFErOR0EJCjnno4pcDvJWC3Zd5Z5ewcXZMeSVikdBUr6cBa2w8cjtQ/Gi5VyDxqU1hpMjXQY2ARnJcDn24OxaUc5ww0UVtY4VOhCaMIILLHv4fD1kfPF7OwP/frU+zGazULCgXStC3rkkNUSj5XyOI+aa6WAAgw42bEIGu7C7i+EWhlYLrqAA+41zmA2PUDPD3Az5TDto0MJ6Qvpztqc4fyumA2SoA7kK7KO0bpL+JDMIT0/h8ufv4M/f/4AMu5X9ahEjhlClzlW6MOxW8BM14ADnEaWTQxfoSpsKdBsAh9RKYGNhV4g8HF+fwZ77+cz9jGHZHufC5OBoGC5HH2qqChZuuLCiHnW70HVDowpFNLJQKuH/IjTkOAwR2zeWnEEqGxCU0ciJv6HkqDUq7EOj0UAZDGE4PIeDcglOSB6VCvY5NI3hDZFPrR/Sk7jQ12+XpxFToBPRuoARdqDoc6s3hnErVEcyLJ9kBuHdC3jy5AW8S9Mp6lfGoB5Ukr0zJyLAVBiDZvEcK6lzKgDFozVoqHpyGnJHtjFBoyJXDKtdg7YlVRQKyl7ipggPuVU9PP3Qe0o9ZBTRfreKJqGKhgL7dFiR9UN9ibgeXmBElx6jptRQ0SjoOjQKasa0PGg0K5WcvuFPQsblI6Y/A/oiB8PUrMtkDMWG1IloHEDpgAype05TRzImH15DyCiVblBJwp2UCfVKdg9h0sDem9yFpekQT4tzeB/s0YFG6U09fKnC5I/P4Djvp01/HQFHM5KM1CMEefTjgoayU4fd3ToO6KniYo/XiSGZ0ehhH7CHh/F1eXivIssjBBolDqWGinr6s6F0jGGIx4rORLhDIsrkjRKlYNKfjMont38CDWdOptS2QjpjB8ttlfMNONl3NMSdbkRDahvbDlh2jE+ugKMA56xqTU7mRo4QmIxxBhc97PhjZY5MZ9C8ZYHWD4IV1VN6qw01rwJgA1oq+I2h3FuSKrqywuB90uvkqdYPKMTPAcsjhcHgioYE2Fg2oKCcqKWSo6HAxrSxD3ClGy1ksgeM8pFHAYlCB+RihjskokzlGvQD5zCYRohZHSFgPUk8+MELcbDkfHamG09KUDoho3oEeVp9avlylLVl0GpFDYYMjxCY5anBiWYYKtYPGtJvR1lj0K9CO9BUkUIhR8f5aAObP8ZqkBbS+gEOnWLnggPGzx8pVCpHTgW3oNdyqyuONryusgWtnn0+Rw2A1xooiOvhnY31DcFasUc58kigUcTT1eC5YHBlsmIyKZ8gSv3GkE/cTS/BgTNlVAUqVx6KMEHDMIAenlEMwHwyJh82CH9XqAfk9vj3zlDvHGXDhvzMqwB+j1q3GyV7I4QgXtnCQWm05N5zE0ajnv2Zpoa8xUE633Q+U4ibFglPWclBNVWVEqgHhxdFaCTKUNxWSGykVFNGFGKnjW6AfLxOEIZI50IxAlfg97emaAZod1AOCmQYBjiMr+pKmT35sEG4EaCizdsdnw6watvK3q/5Q/3AwrDUg1bNI7tkb4QQRDdCiBotv/cses2IWBA8QgOKIwf7vJ2q6PWo5dGYBWPtFt5QSG0XlgN1CvBZQWms3FJLIbgUFNdIxUwZUQhMG90c+US2nsodJyksslZWqQI0myp7kG35sEHIOKLXunsIF85xHLRvXFac6VUP7FkPt9diE5g9SjiV9PcaITgM6tAqnMDBQQMKLalRFOereP4ECpNwY0moGsykjeUmcRbOWwU4wA4BbRe1jVsoYMPlrn+uhpsiH+waFErxnQk3aPR81LMNKk0L4bATPx/CuLjvlwd1K9rPyrZ82CBkFNsQ3ILDXkEsHp8YWl+r15PmHKdw5U4RhF5K25PfIXB7ROFeiEhzAVfOyb/XCAHBXnO9V/VGRbQTax8lILagOufHaCsrR100Frsxb6TSwrZqW+JA7E5Kumt1PVAeWjApNMT24XQ8kWRZPkuAI+86vaTXK8IJjSzRFtAwgHSFdnF1aY6JRmU4OiiNr+x6RTuTIlOy2ZRPMoPw9BQ+fvwIH9/+AHfu/ABv6TO/sbxmClA9n4kKHe0hjGAiKwwqXE8aBcCgBeMTu2cxvbqAUkyD2a+V7ekjuRdCynwIcG4dwMUhKqy1H/NSmwXn+3g5bau7SZWbjAH2mhuONRi73WOrBa2JvQVVpoKVvDFpBSo0GY7d3SsonKvmmLEHOGwAiF0nhi2ra4PyQC+QuZkbQTM0TeSFuPcQliD78vGJHV26IdzxyVH+h1gvaREeG/XQtNCURmVUf2i7b3UMh9TiWz3A/oVHpuVDDnI2EXB4iu0IE8fnz5+dTyqsGQ4pZziktOnXZmUAcmxkB4zDht0hdK2Cfs1OV8audZD+rFZr4x0cLDwul4Pf5QU8T3EY/O9eH7HyQVlEikHlcPLY1glClFd1Qdx5wpr1++ECx8gc5Re5dE3o9Kdf0+iDUn4SVtt7/lF9UXFz5GO1y/qyE1j+WoyCB9P3sYx0HLwWO12ifvpfk235sMe0jMAenfSwfPSwfPSwfPSwxzSGYRgmABsEhmEYRsAGgWEYhhGwQWAYhmEEbBAYhmEYwa2HD3dmW1tbcPv2baD/W1v2/1Uf379fgMePHztfyzAMw2QN3naaEXhbnB6Wjx6Wjx6Wjx7edsowDMMEYIPAMAzDCNggMAzDMAI2CAzDMIwgfYNAv64ZcNc1hUGshyoV5AFLvj58zDAMwyQhsUHYfnkKl/Sz1+Knr0/h6Yp++5p+nvlA/HC/iwU9kBy/RxiEXPyR/1HZA1H4mILvYP2rhX6Tvb4b44GJjLDkPUrze+y2l6mwPPXpI56pxDVBI570+9eGVj6odVL+qAMTvMaUf+qkyOnjOyxR+Yb13Q+BflTaCD8Bbt7Ih4Rz3kUbn+D5J7i/7vmtG/Gz15r8y/Gq5z9P+mC8WT/M9c8nkUHYfnkJbx99hlcPHsADDM9+BfjxLRoFJ35xBtAaH8C+3PpPJwBF75f9FVRCHocsaNfaYFl96Ivf/e9DrYzHFGe1oS3OZci/bRrQ768fopmtHkDZOSUz7RzCHpzYMsNgnQDs5eVGyQWf10UJ5escOiRJXwv7ZJB8MCT//jVhlM8uNL38Wfhpz/6dewd9/qmxO4Rx9dwr+3nxAvLKCqmSb1jfKdg6HuhHpQo2Svk9gBPHs551AKNmR3p++njz8zfc3/D81g3pR/6i6PkNieQf80c+rU+E61rUH3r+kkUzpdfHJ9MPXf0LIPssUIed2ev372evd0zn9EHlD8H9PXH6j1kxBOl396XfaJfPi999936/3JqhocC/NwO9P4QVQXIrh2VCv8Ue9mmgOkfJ7d97D/52uzm9/nfnk31/tuRD/hZcGSTLfxA5vY9avlFU8tyIfGIQ9Tf+ARvizfIz3d9D+fxs1icfc/7J/0gw+/Poj/n+YcL6odKXMK58EowQPsGbJ0/gzSfn0OML/Bk5Nw/UG7oWn3JHQ89y9am3L1syL0jehXIFOHD8/FptcpJoD5uEe8j8MZwJl4/+1NEiTrK/HnJQQBFG/eqWQu6W6XkdKHqlSdPHsWz6dWPB+DqclzwUy67XugXzX5Y83Ani5Bsm6XWbwxpfQy3qTd5DH2+Wn+n+6ZKDo6HK85mb/wH0zsqhSY8KVGtn0BNdfFN6U3yY5fRjsUXlp/+AR19+h3fO4fzQnGoPqiehN5enA5hUkzmVHjt+fvPH5ODOHzaRQUFjCP2277R6GJUmI1Hp4hi06foOpimOFsB5cJptSr4CHbecYUzpyZc/TPw50PAcapLvzzLz5Z/ie1A8D8pSJ1+ZpNdtjilMRtTgSesku3XJV7Ap3iQ/c/rMMWjBRakqPX9D5yBMJH0ITbxKP0z1T2Z+g/D0FC6ff4ZXLxY3BzC4gkIjWmEGrT04jvFxGl5EKkojhHHLXzTZw1EBOZHfO5acyfOisoEKNE4OYLRnj6yaUA2u6xh7Hab01zDCc+4caHQO3ZQ+TTBv7RHsoQLa+bUbrDH2an0S5J920wldpPhiyPF90l7dFK4uSgEfvtkA6+BVC+u0PdKnOe7jwBqAKd4kP1P6DEHrGc0i2rMFH5IpvTY+Tj9M9c9nPoNAxuC73+HVkzew1GxRhRxUO59dsML0is6iET107OG3xSKMHQLln04CTquLQlFocdkeFVh9S0w70T1qvKhsRCxaNcf2opdFi6ZNyEtG1NQrNaWvdGmUVvHS547OoQ0XcOVopCl92lB++yJP1KAfQq/agKLkeT1R/nNHMHR0+bw6Di0aJuz1T69QauGppiwwguI+1jGnALlKF0fq7pQIoY83y890/4xAjXUPG964BVsTpvSm+Bj9MNU/meQGwTEGT3BksJQxUILDQRwlNuaY2hkFpoxoOIk3wIpKDb/VawFNSeb2q1Ds1aHeCW8TZHywd3pcgv7QqXC5HCrQUKpwpt6rKb2JZdNvAjtPdudkiJ0TeV1h/vwHGzSTfH1oizYc7C/W2GSWm/D8E+A01kPsuUafj7ve5ELTYM5HF216xBSPrEI/EhqEp3D63ZLTRLE4c4aN+azqgbONSiwqY69iv9uFfWgBtv02tG+5NRHnG/vZ61NlBhxtjSILnAD5YhlGpMWDHpxdh97zuLan48RivSm9EqlBXSh9ypBM3Dwvm3+TfCVocbU012T0JsjB/gGEFoXdeX/6bIg3ys90/yyAbU0vbhqHFpCvQ/kn/a9JUzu69IQp3ia5fqg2StgkMghPT5/D538uOU0UC/UIuopVdA3WODBlBHnbauYqDShMBjDBzxNrAkXHyOSw1zHP7b8qcvtwgMPHQ3kUNe3AoehsoNSwN+tO29nBgnbZnpoTi/Wm9Hi2s+suGBLYAeg0YVRzFsWM6dOHpjR23fzRC1DNM6i5UzzG/OP1WP6OV366RR32zpwGwSRfj6w1gj45bLFHzbr3stR00IJjlIr7+LTxCZ6/6f5pM6g3vbZGRaVas9+bEPm39f/M1X/ElN4UbxOnH4b6F0b1zkAwPJv9MpnMJpGw/HsIs37N2x9Le3UxO9rgX+vv07batVnbsvBceVbGC2hrrhtPcTU6F7NfN0usdR85yjkiz8B+bWvWRvn5cSRTJyoC7YEO75M3pLf6s1rZicPgPicf8/enLh8v/2XnPReZ+cpP8f3wLTxU8iXU7y64pPkeggBlWNaVTxtvfv7a9Mbnt0750HMJfbcIwfcEqC1y818OvB9lSp/s/vZ1MfphrH++fNJ1kIM9pTp0gwvGJsRUEEC3m0fLh8NrwN4UzT+KuA7s5o/hmt5UdhdeplOY3oARAjvw0MPy0cPy0cPy0ePKhz2mZQRWWD0sHz0sHz0sHz2ufOZ/D4FhGIb5W8IGgWEYhhGwQWAYhmEEbBAYhmEYARsEhmEYRnDr4cOd2dbWFty+fRvo/9aW/X/Vx/fvF+Dx48fO1zIMwzBZg7edZgTeFqeH5aOH5aOH5aOHt50yDMMwAdggMAzDMAI2CAzDMIyADQLDMAwjyIBBGEDdc08oQT9UF+PmTQ3eZ67rGYZhGJmEBmEbXp5ewsePH0W4PH2JZ1bDtNPDv72IO7dBawwHB2NozeM1qVTI/K+apg39tn/Ux7TkwJwcs0SccJMTIz+enJx7P6+O2Pd0Hby418j30Kcnpp16IifgqUF+EKgMik6HqfzLxhOyfFTyWy8m/fCJ6hd21Nx8h4LsJ91UPqN+0K8g77r3pt//d85vhGXk46DRL7q/vv6Y61dS+SQwCNvw9PRnuPf7K3jw4IEIrz4/greXKzAKgzq0oAHdbgPgcBc8B1F4vldswNFRF6o9ReGYBSF3jSWolZ1DASnTIYyr556TlrAT7mnnEPbgRPippnhyci77BCZqjgc7L0h+X43p8XkfXhRtn7ozC07o+zdbo/Vg/nYPe1CoHkBAdBK68hPLxFMjkkf5uE7SVfJfH2b98FHpVwW6Tjo/9PGatuc21Fg+o35gY5ffA7zAvr9FDnU6N0Q+iEG/TPXHXD/nkI/rwGa+QE5zfpk9U8apQ9hBjkUOL7AW+Fizdpuc2bSFUxsfcp4hO8QgByKyo4gEIeQsI4tswsGJ1S7PaihItQMWGdnZBl0fdsYRPGff1/4cxZyenCMF00edfaTuAIZA3SwrdElf/mXjzfIjNisftTOWpPoVLO/y+kH3I4uq40bIR6lfJvmY5TePfBZfQ/jrs3BVuRgDuJpU0dL3oF6vO+EKCoUJHLYK0KhOpPO28/yJN4LIwdHQtoRywEJjXDna06IQ6o19nSR35i7w/NzmoFAK+7Ql1D5Zo5jSD6B3Fnb9R35ob5iT9bVB+j5UuJhNKv81EfGDnFS/wteZymfWD/IlXPMdFGeDheUTxlR/zPVzHvksYBBoCuk7+PxqGR/LFTg6qkDlqAvdRhGgSNNGR1CpHMGwW4Ec/scRhReOKnFK44LCHuNQrHYAxV78/N3XzLTTxCFjEsNIQ+AeFM/9aytdHIM2Xb+sFI9G+tzxUodY5OB6Ej/Ha0qfeuO2JKbyLxsfYdCCi1KMT9y1E9UPIql+JbouUj6dfri+hKV5/N26P/28cZaTjwpT/dHHzyef5AZh+yVcikXlt/AcPsOfzulFoUUiMQJoXcDoomV/7nSg454PBdlJeRh6ANVuFT8V4IiWI9LThoySoHdCu7pEg5SHJhRRkjIVaJwcwGgv78RXQw7Or2GE59w54Ogcqin9TcdU/mXjJWi+uVnE+r5hc6DVj6S93ylcXZRA21ldqHwlGF+1oNAYCvnRHPrxxtZYHFYinzhM9ccUP4d8VPP9prDz7JfZZMk1BA9aMwhOgAls5/negfIawp+P7HtrD8K5fsALd/ZZ5xynLyNCM4fpQOs7EJ6jdR2bW9asLxyi6+6hmMOMTa+ebw3PG2d5DSGKal5XZsF4Z91NlWyT8lHpRyL9MslPWT6Tfqhllab+rFo+pvqnj59PPgutIXx69wJ++vAtfPfUObEIaFHrck8+fJyAKe0+GJ9EnPTnxO6kQ2cI9bUzf+8kV+lC35ujxfTHJegPcQhKvY5cDoeoQyneRJL0I5gEHhUNc52PjA31nHtVe0rVOZUWEf1IqF/TqwuAg311/rXlu1n6sah81Jjqz7L1M8jii8rLktuH4vjKGxZPrwCq8YsEEWjK6dBRIBUkFDIKux3FS29fE4MenF0fQ14MZ+0h7fH1Gezh590kBng6gVFkgQwgXyzDKFhLJSwYXzvzvsb0tEB4HVoUo/Q1/dRCppHKr2Te+AHUeylMEyVhDv2ixc2SstC68pn0Iwf7B+FFVXfe3DlMk3XXP2P9mlM+qumdYHg2e/3+/ez1sx3v3LqmjCwc7ri4U0Z9mv7BIU9gyIVDonJ0PB3armojtre6w6kMs7khbXjI2reHlJKAgkNee8hZpi3B4hgRQ1t3GGrH+1N0OGTFIay/pdiUHhHPqO08Izt9eJtcdqeMkpV/8XgST3TIH2Z98jHpRxgqjyrOLqeqHMbymfRDPBe/jov8hZ5T9uWDaPTLVP+09WsO+SRbQ9h5Nvvl/QSNgBPeozHYUVynCWqDYGFe6WFTBUADIAtVXkMIgGmU59UGQYAJlEkyRHoGAbFQdvK7HZLy2GAaMS/pxweeTSh9dB7YkB4ReuClj86jpmoQRAX3y2eXQcqjqfxLxWOccz4Ygo3oWuVj1A8ZhX4JqBxx56V7eyFYPpN+CKPhplXkL9PyMekXpdHWH3P9Siqf1Bzk0JRPC4pQ3d+HSi46jKRXsScN3VbTMPRq9gQaN/SdA3bgoYflo4flo4floyd1Bzm08Ns9OlIaA4LWAOZYUkAq0OUX0BiGYRYmvUVlhmEYJlOwQWAYhmEEbBAYhmEYARsEhmEYRsAGgWEYhhHcevhwZ7a1tQW3b98G+r+1Zf9f9fH9+wV4/Pix87UMwzBM1kjtPQQmCO+T1sPy0cPy0cPy0ZP6ewgMwzBMtmCDwDAMwwjYIDAMwzACNggMwzCMIGMGYQD1ekKvDuRQI+b3xKfTKUwHA9sd55xOdxiGYb5W5jYI2y8v4ePHU1jGWRo5aOjsug4j5LAHZ2d7ivMUoj5APWcbU2z8hd9l+r8LLXIGUSFH/vQDevxzdzLTDjnajsqSfn3WdfJOTrh9Z3NopAPPwQ+y7Y5P74DPqO49c3II7pwPEZe/9SI5IMcQdXKvj7fz7JbNCSGfyLJ8dE701eUnx+nSd6jku25EHcM8xPh6Nj5/h9jna7i/XP5dVB75miTyT53Y8iWrX7ryEzr5zyOfOQ3CU/jHoy/w4S/ncGFycDS0HYonD11Q+4vCynLVgzF+Gvd6cEGu9XotaAWc9GdMOVKD3PmVoFZ2Dh1IYfIXRc/JOznh3vOccFegG3gOFPp4j7bnFlCfnkClz+8BnFh2eusARs2OFO+izt96ocb2EMbVc698QSf3pnibWt+O84L8y7vk6hXlc2JRnAUnlF5pEeOezyHswQlYzr2j8l0zNBo/7EGhegCqR2N+/i4xzzfB/Zte+VF+KI3D0MhfK/+00ZYvWf3SlT+J/BPLR3ZiYwo7r9/Pfnm2M3tNDnIU8boQ6zFNOIxwHDdEgsKhhtWftWu2FzXyAlSTPAX1ycmOcyB/vglswgGM7ew77KCDjoPOSNTnfKJOw/XphRNwP0Es6vzZbNZBTpwzF5dgfFAeUcIOzePuv8zz2Yh8NB69TPkjdM9XkPj+88mf2Kz+xKAsX5RgeUzlN8t/HvnMMUKg0cEf8M93zuEqKbW93o8csCJFyVXgqNuFxgHAdakK3SNyym0PqZtQhII1gMEAbWO1COM8TU3w2MCGemcqZ980WlP5nojz+Ru+jzk9+dKtGR0kx+UvJRR+agOY4j0G0DsL+68lP8FhJ+jxz6dQCvvEJXQ+mTdJUv1Z9Pmq/E/noVgOO97/uxCWk6n889ZfPYkNwvbL5wC/voFPzvFKGclOqP2wd+bER5jC1RigDRMYiLnpFkwa53BQLEClUnFCAYrtc2hMWrCbxpxrxph2mgAnCYfRgxZcoLFV1d1E9wmkdx16S/Pw+DzCa/1z5W+tUOeiB8XzuLxE4y2ar5z4c7jRNQJz5dSVv9I9AWi6nRv6/hbAedwUagZQ6M86n69Z/jeHlcgpJP955JPQIKxxdIBFj19PiFH66RVAEYcI1QItF0B32LUt5LgprRs0xboCeWYbYnxlHZp4Y5ijd0bznc0itjeqi9EQX5RA29lXpi/B+KoFhcZQPFea4zwOrTGkPjqYdpwKk7dHms5pD238NYyg6s3hqtYY9JjKX4HGyQGM9vLO91dhP6v6rHz+yzxfLHt7BHveQqptEMc4avJZVv5ZQVW/kpRfQin/5PJJZBDWMjrwKliSsBvoUQ7QHhT26RMKq5GHQYcMAAoJGx4fGme3hHHofOXDg8S9DlKmHipO3IITGuILbAxjp0pi04+guO8b5VylC31pyiQTo4PcEQzdClMdRxdFNfGV7gyGYurSJnd0jqPXC7hKqHam8otFw+bYXpS2aFGxiSPqUP6yQMzzX/b5kjz7oszUFhxCr9qAIm0ecVhW/pkhpn6Zyu8RI/955JPAIKxvdFBqO7tODMFqSw09GpIe7Hsjhxz5ZMahQJXWFapF5yxRFOe6jSKMJ86pr5KEvTNHmYbYs4iruNOrC4CDfXV8gvRqMjA6CBE2WGFM8VHC8900jeZ8NJYf449L0HdHuajv5G98vu/fALHPfxXP1y6z3R4MoVtRzavffOLrV4LyL1z/gpgNwtPv4Ns7P8Dbjx/howhv4Yc738KP+Pny5bZz0ZIoRwtxPaB9aERXUGwmYyg20AiQcZBsQ/HvpjnzMOjB2bW8RpOH4+sz2MPP/ot9A6j34qaJfGhx2Hv3I4AufQ72D9BmBxZF3XUF/JgofzcNucLSAvJ1qPwUX7OnBkzln05gpFjAzhfLMMrMqqrm+a/j+dI9tYv6N9NgxNevEJHyJ6u/PvHyMRuEdy/gwYMHUngGv/31AX7Cz0/erGgSKVeAg9BoQbnDiMAeUrzIRnDRstcQWhe0gsBg1yIg19nMgna5Bn38PHQM66DeRENqGtJLjXgIU/ocWoRREw28U/+ngxYcw4E9D54gf+tlAJ3d3cC04hR7W3tnToNtjKeXLOXdbFMYdJowqvmLepVqzX7vQlxix5+58aby5/ZRUhdw2JFeRsIO1KHoTG5CPma0z38Fz5emzHbd8tMLXs0zqHlTUGb53wzi65e+/Kb6N6d8VO8M6MOK3kOw2rOav1F2Vta8g2C1Fe8U9GuzsnOS3jmga61+e9Z3r7Mse7+v/D0ZZnP7pMP7wGlPc1j2FPR7v30Spqfn5cbR98c+knD+bNYqHwvLIL8LE87fnPHlmv9ujAvpsFv+ck23F11VfjxXKwe+P6zSa5UPPjvvu708uGVI+Pw9FOXT3p+gNG5cOVqfE8g/1fcQjOUjSI5RvbfRlT+B/OeQzwIGYbGgNwj9WTvUQlhtEphb2FAFJDyDQJVFLcg+VkJ6ga2tlnKmSFVhbwAsHz0sHz0sHz2ufNhjWkZgj056WD56WD56WD562GMawzAME4ANAsMwDCNgg8AwDMMI2CAwDMMwAjYIDMMwjODWw4c7s62tLbh9+zbQ/60t+/+qj+/fL8Djx4+dr2UYhmGyBm87zQi8LU4Py0cPy0cPy0cPbztlGIZhArBBYBiGYQRsEBiGYRgBGwSGYRhGkJ5BWMJjmpoB1G+k2zyGYZhskMggbL+8dJzjSOHyJSzlHidXgFKtH/2t9FobrMA5jW+EMKVC7G/yMwamZFB9A1yP8cZFv80e77woPn7aqXsdAJWTb1P8pkiS/1u7vm8H0RFxz4eCLMN5yh+8v40pPm30+SM/wCTX+Pwby0d+AOgecZ0+U/yGWEz/p3beY+N91PdfgXwdEo8QPvwkO8nB8GTFPpaZFMFGLb8HcOI4KbLIoU0notR0XeuiBLWycxghJn5Qh8OLou0TGI3+CTn5lltLU/zGUOefKmEe8+c6KbdOQPKpXIGuc94PfbxH23cbaSif/v7m+LQx5/8Q9uDE6+jNXT6U3+5hDwrVAyg7pwKY4jfGIvpPjfkhjKvnouwU4p3gx+nnkvKVkX0WxIWd1+9nvzxTxyUNEX8I5OugFnZUQL4Nos5DXAc4PrLDCEOIOKLIJmn+XrvVLs8g8iyi0HW1Psle7X8iLh5HeHjeORAEnYGY4olNyEedfzoOO3tRnfOx7+McIPryme6f7PvT059l82+KlyBHWrr6rIlPT3+S6XcQdfxi+mmKt3Hlc3MXlUvhqSXslammoCT//Iwa8uVas/1BaqDeicEZvDJ+AL2zsGtA8jPsOok3xW+KuPzn4Gg4hKi3xzifveH7mMpnuv+8379pzPkvYB0M+pQmbkr5krKo/scQ8Rkdr5+rlG8ig1C4h3++OYVLZ/3g8nTJ9QOXsz1/3kuEPByfyQ657bB35lzPrAHXl6s0j7lbjyziTztNAMmPaxh9vKlyp1/5TeULMGjBRUntk1Z9nznLp7m/wBSfNqH8VbonAE3Xry9NkbQAzrs3t3wKltN/GZJPD4rnwXvp7r9K+SYcIdyBu/A7vHLWD159fgRvl11UJla9qMwsSAnGVy0oNIZC3jTHeByYY4zrnbiY4rPOHPmn+epmEeub6uIpXF2UHOf7C6K9P2KKTxtl/irQODmA0V5edPqaUIX9uAYy6+VTsgL993ZdknyKUHBO25juvzr5JjII7148gCdv3nmLyJ/evILf4BF8v5JhwoKMwiOJPThTjThGzvWMhhEU97FH4ShRrtJFI+wPaU2957l61xkkcf6pMvWqcD6MuXZ6BRdYmYND/Tkw3d8UnzYx+ROLms2xvahqWXCCTVZetVMt6+WLYSX6nzuCodMBPq+OQ4vCpvq3OvnekDWEEUzCS+5J1xBgDJHpNWYOVjE6CD8/mqZyPgpM8eskYe/OqUxD7FnFVsyrC4CDfUV8gvKZ7p/g+1MlNn8o3+MS9IdOhyOXg0p3GOhwCLJevlhWof9Bgh2yBPVvhfJd0CAU4N6dL/BnavtOc3DUTWKRaUFFM5fGIDnYPwgvSrnrCvhx0IOza3k0hqOu6zPYw8+7tNBgikfpV2vXoftbML6uOVMrpvg1Y8y/uAjqPfM0Bi3OlyKTxUnKZ7p/su9PD03+phMYRRZIAfLFMoy8VjLr5dOwtP4bMN1/1fJVbRENhp3Z6/e07XTHO372+v3s/S/PpGvMobvUtlPFFrQIqvvdHNLcdmpv16vN+o6MrX5Ns12Xtqzptswp4vF+tB3Qvr8167dD21xN8cjm5BPNfzL9i27l8zCUz3T/JN+fpv7o82fLpdzu4ycHoW9+mmTyRTK+7dRmXv3v23rjVj5E1L/Ybanh+69Gvq58Er2H8G87z2a/vJ/MJhM7kDHYUV2nCRGDQJlWvTegDEkUhg3CUpDSuvImhYuVt0LhA6jjrbZ//7LC6Jvi06vQtCfckUsghHVSvXfcJb58pvsn+/709CdJ/lCm2Ch5cShfPy5BetFAhuLlht8Uj6RqEBCtflsoA/m9KkofuEBGdf8l5Yu48knPQQ6tqrcKYk7LBL2WPWmo9tLK4LCoDtC9icNOhB146GH56GH56GH56EnfQQ6tqidsvGmRRG8MiMqNNQYMwzBZ4IbsMmIYhmHWDRsEhmEYRsAGgWEYhhGwQWAYhmEEbBAYhmEYwa2HD3dmW1tbcPv2baD/W1v2/1Uf379fgMePHztfyzAMw2SN9N5DYALwPmk9LB89LB89LB896b+HwDAMw2QKNggMwzCMgA0CwzAMI2CDwDAMwwjSNwjTDtTrA3B/uXt+yBdwR0ofPmYYhmGSkNwgbD+F00vbyf7Hj5dw+tQ5vyTTqzEITxEDMgz1mCA38AOoe84iHIcRAcf84WMKCndyTIBpp+74dMWwi/KKsajkrk8nz8XiJQf/GHY3btBN3798PP1irxuvlO90YN9jN1p2W2ZOWu8em5aRTdzzlcu3G+rgJcm/Lr0A5VPfddOTQ3nnvIOsv5vXn+D3q56vqXymeFP5VlV/ExoENAZvfwT49Zlwsv/g2R9w9/lLPLssU7gaF4V7uFzlCLrdrh2qGFV1PmOoBtxgVqAbdpNJjvmtPvT7dNyHWtlxr2m1oS3Osdc0HaQk+YsinDsyJSf7sk9XH3LnV0L5OocRFomnxvIQxtVz53nO4Lx4AfmNNXim7182nuR7CHtw4rl8jciX3Bse9qBQPYA40dWEHkshFb/D6udL+tP0ykc+fffg0PM2Z6PLvzk9GoP8HsCJZae1DmDU7ATkd4j6K3wKU3qSf9hirBFT/TGVz1h+Q/lM3+9jqp+I7MQmLuy8fj+bzOkhLRywYce8hujXZkqfNqHz/VrIIUTAuY7v6EFch3E1cYKcRkQdrWSV9ByckMONoLMM9TkSexmfi8pBh82y8T7k1CN4zWblE/3+IPPEJ5ev0GuFxy9bbs5BDJuQj/r5qcoSlI8+/8nShz3oyfRrELp/9PmsTz6m52sqn7n8+vKZvt9HV/9c+SQaIRTu3YEPv79zjlYFWv3mCIr4iYY7gSkiPD9q+sfN0Qia+L/jjoNyBTho270Fq13CE/Y00t7ZGVrGYzg7zuOwyJ868n3jMlHI77TK30QJgu6BqXexjLN9U3wIhZ/YjWL6/sTxOSigigZ96hJh+WaduOdH/oHDZclDsRx2LB+HOT35qq7FOiAeQO/M8f/tQX6MQ07m14ap/pjKZ4o3lW9V9dcmgUHYhm/u/gWfJ9vw8vTSXkO4PIWX2070QtCcaw+qJyUY41HuyJ8eotA4KMHBuX98UirBCf4/qvglHItG/xbkj0d45E8j9WttQOsH/XZN/KdzQ7N3HUZm0IKLUjUwzTbtNHHIHj9NsWy8D03B9KB4nsaUCGH6/vnjK10cwzdp3ptqOMW3AFC/k9pGiyrJJO058qTPL8py+Z/CZEQNorROs4udw8ANwo1fyijqz3LMWb4F6q9LwjWEL3Dv+3/An/98ItYQnv0K8MPb08XXEAZXMK4uN69flEYI45a/ILOHo4I9+n+MowXnnG4RhQlB89nNIrZX8tPZwOiAXKqKZ5WHJo4bC87pjWH6/qXiK9A4OYDRnj1ybUIV9udqwK5hhGncOeLNrrEQuueHZWuPYM9bCLUN3pgG7h66/CdJj3X8qgWFxtCu82hfj5Vz5BkgUn9M5UtS/jlYqP76JDQId+Hzv17Au0/20ad3L+CnD9/Cd4taBFpADmQOhSBNG7UuRnDRkqeMnMtcphMxsnApCkWhxWV7VGD1LbFAY+EoocaLyskhZephxQ0tWG5kdEAuVd0GozqOWRRbI6bvXyJeLPo1x/aioEWLhk3Iz9FJqXRplFvx5Jc7Ooc2XMCV3YKsHdPzo/z0RZnIIB5Cr9qAolRnTfk3pQc0J8V9rMPODXKVLvQ3NiU0BzH1x1Q+c/kTsmD9lUloENZNDm2EO0WEwnCmiOxjmjJyLpMYBaaMaDiJw3AUJDX8Vq8ldiXl9qtQ7KFR6US3cTEhHGUiP9dBxdnA6CBE2hXe9P3zxWP5j0vQHzoNWg51vTvMZoOmJMnzs8tExnA2G2JnTzUvrmPZ9OH1Cppmcj5uitj6Q5jKZ4pPUL6F62+QBAbhE/zrD4B7gTGwu67gHK6S6RX2/oPzXxU0CuHyHDjb2MSiMva69vGafWgBtv02tG+5NRHnG/va5T8GlabeCw8zHQY9OLsOvedxbU/HicX6ZeP/7uBodqRYgM4XyzAK1vI5mLfBXIJFnh+l0S66G/IfSJ+D/QMILcq76wr0mRZYr0PxdP+aeL1pM2jqjwqTfALxScq3RP0No9oiGgk7r2fv3/8ye7ZjH+88+2U2ef96thO+ThO6Cbed0tbR8HapCFI6qy1fb8367f6sTffot833yRDpbTslcUa3qMWj3rbmM288Pi/aItf3M2Dh84WNbRs0ff+y8fYWwDLqpXeF2F6qkLly26mdnrYLusf9Nt4vVHE2pz/R50vbGb3yWSQPeZukOf/69IiQC36ncwshX1lOeExys+Pt+4e3qa5TPqb6YyqfsfyG8q2i/rrySWYQKKAReD+ZzCYUJOOQNMQZhLJXEiwoFiz0HJXI7yXYBsFOS0pGd3PjKa5G5xILKz3SMwi0pxmwAQuHOCVTK5TPAvFYCWpYCbzvliq/y1rlY/r+ZeOpzKifcnxAtsKASOnFNVKDF7q/q+cyaRoE+5ybP6zDYcUx5t+QnqC2wkmv0g+q6258WfH+0frkg2Vz8xUIcv0xlc9c/vjyJfl+GdXz8+WTroMcmveaNGB4ZIltqIWGv3AUi5gKAuh289DZxeEP1Oz5WRHXgd38MVzTm8ruwsp0CtNcLjSvlj3YgYcelo8elo8elo8eVz7sMS0jsMLqYfnoYfnoYfnoceWTkV1GDMMwTNqwQWAYhmEEbBAYhmEYARsEhmEYRsAGgWEYhhHcevhwZ7a1tQW3b98G+r+1Zf9f9fH9+wV4/Pix87UMwzBM1uBtpxmBt8XpYfnoYfnoYfno4W2nDMMwTAA2CAzDMIyADQLDMAwjYIPAMAzDCNIzCNMBuD7zo5DDG42LQPpRvK/ht/QZhmE2SAKD8BROybG+Ipwu7FQZyeUBWuR4nA4GUPccODhOHM5kpw4UJJeDlS6cjA+dtGQf5Ouiwb3ua2baQSPqymQXZSnZU3LxGJbZrYDPXsnBOQalk3Q08OKaiK/f8LP1g/9cyI+slIdQ/rKAnL9dz/+tTRL5mconP5+ofDMgn9jn62CKd7BlJdXlhPqh178E+rkhouUj9Plbhf64qL9fr78yCQzCO3jx4IFwru+Hn+DDX7/BP985lywEuY07h2LPKXitb7uQs/rQ7tsO9GczC/qOM/2wX+RK9wSgaRecfLba18ygXytDm3zXOsezPm91JSXJXxQ9J+fkpDzsE7jmeKDzgueXlZTxEMbVcy8u4uSdRmyHPShUD6DsnPKpQFe+rwh9qJXbnlu/aecQ9uBE+MGmeFX+0oTk1/TyRz6R9+AwNEKNl1+C8qH8DvH5CJ/LdH+Sr9SLSV0+2ueLmOI9yJ1jCZ+9cygw6YdJ/xLo58ZQlS9Z/pbSHw/V91N6s/56uA5s5gk7r9/PfnmmjosLSgc5Hn3hyCb62Zq122FXDnpk5zmCftQrWxZZnwMPcogRdpYRPEcem+aTETnliDrZwBspPH5FCX6fOX/E5hzAhFHlL1h+vfzM5cM+Syi9fP8Mycf0fA3xtpwo7wrdkTDrY4z+eUTjNyGfpOVbtf64qL9fdW28fBZYQ3gK/3j0x5KjAxxC4bAnaKQmeI6GNHtwdrbnDG/ycHzsfs5Oj/FmkYOj4RCOIh6ClvTJq/WZqyPs9DsHhVLYZy6xIZ/BRlT+f/NQLIcdn8dhKt8Aemeuf2AX8qPrOuHPunySktTZe8LrTPq3sH4uStLyOSTOX9LnH/f98+nv3AZh++VzgF/fwCfneDGokWoAHO5KRqGA52hI04e2N01k4WdnKsmdMiKvaM5cmGqubgJBQU8nI+cT4zFowUWp6k3BWWP8M9HNYcvQELgHxXN/SDsP004T4CSY1p7+o/Uk+la6fwvgPDhFmGVM8jOXT9+433T5EKrnrsJ8nUn/ltPPRUlaPlX+ltefeb5fz5wGYRu+f/QFfl9qdOAS13NFa3icdxp8HCGQsGRyRzB0jUUtZGWnVzBGwxK8ZSnU+/rKofneZhH1SVanaxhB1VtjUM7BeoY4D000ugXn9HxM4eqiBNVIS1aBxskBjPboudP9q7C/rGavDMxbewR73kKcXSHH2GvzMclv2fJlWT5JSNp7jtMPxKR/K9HPRUlQPm3+ltUf3fcn0V+f+QzC9vfwCD5jL3zFTOU7hhaZAg2XnunVBRRDUrHGPELwIGPQQ8WTFqwIWpQfHlW8c7mjc2jDBVzJFsEzxKiw1fFii5posPEJRYbKYtG7ObYXVS1a9GpCPkNThCSPvsgTVehD6FUbUJTUyiS/ZcuXdfmYSNx7jdEPgUn/VqGfC5KofJr8Las/pu836a/MXAZh+/tHAH/8a8npIgn5XYTiJHb72S1px0UsaIEPxyehEccUJqObNte6JhxjMEQDu6w4cpUu9L057uSQwYaD/dD3Y+/muAT9IQ6BKSJHu8+GC91/fdh5Eh2U2RC6FdW8bBxJyheezyW9dT7eCPnoSNB7dlDrRxST/i2qn4uRvHwu8+XP9PyTfH9y/Z3LIBTu3YEvf67MHKAC9KBnOYpQOLJHBv1aYAtWv1aDtlHaA6gfogUNjyZ0PY6vCpRPLzxNpGOeBi851vgaSuGb4uhwpFhgyxfLMEq2art5Bj040y4KSvIzlo8WkK9Di4aUvmZPndxE+ciQrK7ld4rycHx9Bnv4OfxyqVI/ss4c5UvOHPqzyPfr9Fe1RVQddmav37+fvd5RxZlDN7Lt1Jq1a/YWtfBWUatNW0X74nx4a5WHRVunaDsV3QfTy9f1a/ST3hgwPnY7V7ZY57a4fi26Rc3H3pZG29Xc4367PCt7++D69rY1ScCWkG/wmQm02w5V298I+3wZH5QXJe4TvDa9baeUHSl/qHftsrxN1CS/BOVDeZLc7FvY6alXZJMh+Ri2lRrjBVQehe445Yzqh0n/kunn5vQnXD5T/uxyL6U/AaLy1euvjSufOQzCs9kvk19mz5Rx5hAxCCiUGpWIChfIHQkE47CRpyAL0gPT1MiYuILBa5SyQSw0GHZwTmSU9SksGU4yjuEgKRQZV1QSN46eR0BcoXgghZMvEAouxYtrwg1DdO+zDyoxGi0/bbQjkKZBEPnzyo+VN5w5k/wSlI86QWUvfVh2KcvH9HwTPX+XaINlo9EPk/6Z4pH0DAIyZ/4X0R8flXzpnHt/hf4irnxScpBDr3K3oNDtQr7TAevoCPKDOrR6GFWsQmO/QlNlNvRK/FUPxhcAVdpqlaNX5Cew33UWUSi+1YSLs2u4FgmCoMEQ/w9OhnCUdMYkBdiBhx6Wjx6Wjx6Wjx5XPuwxLSOwwuph+ehh+ehh+ehx5TP3i2kMwzDM3xM2CAzDMIyADQLDMAwjYIPAMAzDCNggMAzDMIJbDx/uzLa2tuD27dtA/7e27P+rPr5/vwCPHz92vpZhGIbJGrztNCPwtjg9LB89LB89LB89vO2UYRiGCcAGgWEYhhGwQWAYhmEQgP8PcWasy3Q0ahIAAAAASUVORK5CYII=)"
      ]
    },
    {
      "cell_type": "code",
      "execution_count": null,
      "metadata": {
        "colab": {
          "base_uri": "https://localhost:8080/",
          "height": 78,
          "resources": {
            "http://localhost:8080/nbextensions/google.colab/files.js": {
              "data": "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",
              "headers": [
                [
                  "content-type",
                  "application/javascript"
                ]
              ],
              "ok": true,
              "status": 200,
              "status_text": ""
            }
          }
        },
        "id": "3nqSy6SKJY-b",
        "outputId": "2186fdcd-84d1-4507-c2e3-8ce56804fe28"
      },
      "outputs": [
        {
          "output_type": "display_data",
          "data": {
            "text/plain": [
              "<IPython.core.display.HTML object>"
            ],
            "text/html": [
              "\n",
              "     <input type=\"file\" id=\"files-a1c20cb2-a333-4a95-be6d-17d726272449\" name=\"files[]\" multiple disabled\n",
              "        style=\"border:none\" />\n",
              "     <output id=\"result-a1c20cb2-a333-4a95-be6d-17d726272449\">\n",
              "      Upload widget is only available when the cell has been executed in the\n",
              "      current browser session. Please rerun this cell to enable.\n",
              "      </output>\n",
              "      <script src=\"/nbextensions/google.colab/files.js\"></script> "
            ]
          },
          "metadata": {}
        },
        {
          "output_type": "stream",
          "name": "stdout",
          "text": [
            "Saving 投入用.csv to 投入用.csv\n"
          ]
        }
      ],
      "source": [
        "# すでに同名のファイルが読み込まれている場合は削除\n",
        "import os\n",
        "if \"file_name\" in locals():\n",
        "  os.remove(\"/content/\"+str(file_name))\n",
        "  print(\"file removed\")\n",
        "else:\n",
        "  pass\n",
        "\n",
        "# CSV読み込み\n",
        "from google.colab import files\n",
        "uploaded = files.upload()\n",
        "file_name = list(uploaded.keys())[0]"
      ]
    },
    {
      "cell_type": "code",
      "execution_count": null,
      "metadata": {
        "id": "N-ZiAYQ5Wvwo",
        "cellView": "form"
      },
      "outputs": [],
      "source": [
        "# クラスター数の設定、直接入力か右に入力\n",
        "cluster_num = 0 #@param {type:\"integer\"}"
      ]
    },
    {
      "cell_type": "code",
      "execution_count": null,
      "metadata": {
        "colab": {
          "base_uri": "https://localhost:8080/",
          "height": 247
        },
        "id": "6Ceq3mvv-y3p",
        "outputId": "091dd372-52e8-4338-a12e-09a51ba4e953"
      },
      "outputs": [
        {
          "output_type": "error",
          "ename": "NameError",
          "evalue": "ignored",
          "traceback": [
            "\u001b[0;31m---------------------------------------------------------------------------\u001b[0m",
            "\u001b[0;31mNameError\u001b[0m                                 Traceback (most recent call last)",
            "\u001b[0;32m<ipython-input-1-218093910e36>\u001b[0m in \u001b[0;36m<module>\u001b[0;34m\u001b[0m\n\u001b[1;32m      4\u001b[0m \u001b[0;34m\u001b[0m\u001b[0m\n\u001b[1;32m      5\u001b[0m \u001b[0;31m# データの読み込み\u001b[0m\u001b[0;34m\u001b[0m\u001b[0;34m\u001b[0m\u001b[0;34m\u001b[0m\u001b[0m\n\u001b[0;32m----> 6\u001b[0;31m \u001b[0mdf\u001b[0m \u001b[0;34m=\u001b[0m \u001b[0mpd\u001b[0m\u001b[0;34m.\u001b[0m\u001b[0mread_csv\u001b[0m\u001b[0;34m(\u001b[0m \u001b[0mfile_name\u001b[0m \u001b[0;34m,\u001b[0m \u001b[0mencoding\u001b[0m\u001b[0;34m=\u001b[0m\u001b[0;34m\"SHIFT-JIS\"\u001b[0m\u001b[0;34m,\u001b[0m \u001b[0mthousands\u001b[0m\u001b[0;34m=\u001b[0m\u001b[0;34m','\u001b[0m\u001b[0;34m,\u001b[0m \u001b[0mindex_col\u001b[0m\u001b[0;34m=\u001b[0m\u001b[0;36m0\u001b[0m\u001b[0;34m)\u001b[0m\u001b[0;34m\u001b[0m\u001b[0;34m\u001b[0m\u001b[0m\n\u001b[0m\u001b[1;32m      7\u001b[0m \u001b[0;34m\u001b[0m\u001b[0m\n\u001b[1;32m      8\u001b[0m \u001b[0;31m# KMeans法の実行\u001b[0m\u001b[0;34m\u001b[0m\u001b[0;34m\u001b[0m\u001b[0;34m\u001b[0m\u001b[0m\n",
            "\u001b[0;31mNameError\u001b[0m: name 'file_name' is not defined"
          ]
        }
      ],
      "source": [
        "# ライブラリのインポート\n",
        "import pandas as pd\n",
        "from sklearn.cluster import KMeans\n",
        "\n",
        "# データの読み込み\n",
        "df = pd.read_csv( file_name , encoding=\"SHIFT-JIS\", thousands=',', index_col=0)\n",
        "\n",
        "# KMeans法の実行\n",
        "clu = KMeans(n_clusters= cluster_num)\n",
        "df[\"class\"] = clu.fit_predict(df)\n",
        "df=df.replace({'class': {0: int(cluster_num)}}) #1スタートにする\n",
        "print(df)\n",
        "\n",
        "# クラス分け結果の出力 class_all.csv\n",
        "df.to_csv ( 'class_all.csv' , encoding=\"SHIFT-JIS\")\n",
        "\n",
        "# クラス分け結果のみ出力 class_list.csv\n",
        "df[\"class\"].to_csv ( 'class_list.csv' , encoding=\"SHIFT-JIS\")\n",
        "\n",
        "# 各グループの平均値 class_average.csv\n",
        "print('各グループの平均値')\n",
        "print(df.groupby('class').mean())\n",
        "a=df.groupby('class').mean()\n",
        "a.to_csv('class_average.csv',encoding=\"SHIFT-JIS\")"
      ]
    },
    {
      "cell_type": "code",
      "source": [
        "# 各クラスターのデータ数\n",
        "for num in range(1,cluster_num+1):\n",
        "  sum=(df['class'] == num).sum()\n",
        "  print(f'{num}:{sum}')"
      ],
      "metadata": {
        "colab": {
          "base_uri": "https://localhost:8080/",
          "height": 228
        },
        "id": "5RF2bkuJTiW5",
        "outputId": "64a631c3-86ea-4ff8-b224-a546e0dd81dc"
      },
      "execution_count": null,
      "outputs": [
        {
          "output_type": "error",
          "ename": "NameError",
          "evalue": "ignored",
          "traceback": [
            "\u001b[0;31m---------------------------------------------------------------------------\u001b[0m",
            "\u001b[0;31mNameError\u001b[0m                                 Traceback (most recent call last)",
            "\u001b[0;32m<ipython-input-2-83f8b3e026f2>\u001b[0m in \u001b[0;36m<module>\u001b[0;34m\u001b[0m\n\u001b[1;32m      1\u001b[0m \u001b[0;31m# 各クラスターのデータ数\u001b[0m\u001b[0;34m\u001b[0m\u001b[0;34m\u001b[0m\u001b[0;34m\u001b[0m\u001b[0m\n\u001b[0;32m----> 2\u001b[0;31m \u001b[0;32mfor\u001b[0m \u001b[0mnum\u001b[0m \u001b[0;32min\u001b[0m \u001b[0mrange\u001b[0m\u001b[0;34m(\u001b[0m\u001b[0;36m1\u001b[0m\u001b[0;34m,\u001b[0m\u001b[0mcluster_num\u001b[0m\u001b[0;34m+\u001b[0m\u001b[0;36m1\u001b[0m\u001b[0;34m)\u001b[0m\u001b[0;34m:\u001b[0m\u001b[0;34m\u001b[0m\u001b[0;34m\u001b[0m\u001b[0m\n\u001b[0m\u001b[1;32m      3\u001b[0m   \u001b[0msum\u001b[0m\u001b[0;34m=\u001b[0m\u001b[0;34m(\u001b[0m\u001b[0mdf\u001b[0m\u001b[0;34m[\u001b[0m\u001b[0;34m'class'\u001b[0m\u001b[0;34m]\u001b[0m \u001b[0;34m==\u001b[0m \u001b[0mnum\u001b[0m\u001b[0;34m)\u001b[0m\u001b[0;34m.\u001b[0m\u001b[0msum\u001b[0m\u001b[0;34m(\u001b[0m\u001b[0;34m)\u001b[0m\u001b[0;34m\u001b[0m\u001b[0;34m\u001b[0m\u001b[0m\n\u001b[1;32m      4\u001b[0m   \u001b[0mprint\u001b[0m\u001b[0;34m(\u001b[0m\u001b[0;34mf'{num}:{sum}'\u001b[0m\u001b[0;34m)\u001b[0m\u001b[0;34m\u001b[0m\u001b[0;34m\u001b[0m\u001b[0m\n",
            "\u001b[0;31mNameError\u001b[0m: name 'cluster_num' is not defined"
          ]
        }
      ]
    },
    {
      "cell_type": "code",
      "source": [
        "# df.groupby(\"class\").count()"
      ],
      "metadata": {
        "id": "RgQ0_0nfnoRM"
      },
      "execution_count": null,
      "outputs": []
    }
  ],
  "metadata": {
    "colab": {
      "collapsed_sections": [],
      "name": "k-means法.ipynb",
      "provenance": [],
      "authorship_tag": "ABX9TyNnDmrrjXkB6U/T0haKrkN0",
      "include_colab_link": true
    },
    "gpuClass": "standard",
    "kernelspec": {
      "display_name": "Python 3.9.12 ('base')",
      "language": "python",
      "name": "python3"
    },
    "language_info": {
      "name": "python",
      "version": "3.9.12"
    },
    "vscode": {
      "interpreter": {
        "hash": "6155d337695d8a8b6f81de1b148fcc5cd5fd9f019d4a85ecf2e0c2616356c7fb"
      }
    }
  },
  "nbformat": 4,
  "nbformat_minor": 0
}