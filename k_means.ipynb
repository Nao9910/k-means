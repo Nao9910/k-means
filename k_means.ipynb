{
  "cells": [
    {
      "cell_type": "markdown",
      "metadata": {
        "id": "view-in-github",
        "colab_type": "text"
      },
      "source": [
        "<a href=\"https://colab.research.google.com/github/Nao9910/k-means/blob/main/k_means.ipynb\" target=\"_parent\"><img src=\"https://colab.research.google.com/assets/colab-badge.svg\" alt=\"Open In Colab\"/></a>"
      ]
    },
    {
      "cell_type": "markdown",
      "metadata": {
        "id": "mDNjbqzubF0_"
      },
      "source": [
        "先頭列と先頭行がindexの状態のものを読み込む。\n",
        "\n",
        "「ランタイム」→「すべてのセルを実行」で、終わったら左のファイルから「class_all.csv」、「class_list.csv」、「class_average.csv」をダウンロード。\n",
        "\n",
        "![image.png](data:image/png;base64,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)"
      ]
    },
    {
      "cell_type": "code",
      "execution_count": null,
      "metadata": {
        "colab": {
          "base_uri": "https://localhost:8080/",
          "height": 78,
          "resources": {
            "http://localhost:8080/nbextensions/google.colab/files.js": {
              "data": "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",
              "headers": [
                [
                  "content-type",
                  "application/javascript"
                ]
              ],
              "ok": true,
              "status": 200,
              "status_text": ""
            }
          }
        },
        "id": "3nqSy6SKJY-b",
        "outputId": "2186fdcd-84d1-4507-c2e3-8ce56804fe28"
      },
      "outputs": [
        {
          "output_type": "display_data",
          "data": {
            "text/plain": [
              "<IPython.core.display.HTML object>"
            ],
            "text/html": [
              "\n",
              "     <input type=\"file\" id=\"files-a1c20cb2-a333-4a95-be6d-17d726272449\" name=\"files[]\" multiple disabled\n",
              "        style=\"border:none\" />\n",
              "     <output id=\"result-a1c20cb2-a333-4a95-be6d-17d726272449\">\n",
              "      Upload widget is only available when the cell has been executed in the\n",
              "      current browser session. Please rerun this cell to enable.\n",
              "      </output>\n",
              "      <script src=\"/nbextensions/google.colab/files.js\"></script> "
            ]
          },
          "metadata": {}
        },
        {
          "output_type": "stream",
          "name": "stdout",
          "text": [
            "Saving 投入用.csv to 投入用.csv\n"
          ]
        }
      ],
      "source": [
        "# すでに同名のファイルが読み込まれている場合は削除\n",
        "import os\n",
        "if \"file_name\" in locals():\n",
        "  os.remove(\"/content/\"+str(file_name))\n",
        "  print(\"file removed\")\n",
        "else:\n",
        "  pass\n",
        "# CSV読み込み\n",
        "# 先頭行に分類名、先頭列に自治体名が入ったCSVファイルを読み込む\n",
        "from google.colab import files\n",
        "uploaded = files.upload()\n",
        "file_name = list(uploaded.keys())[0]"
      ]
    },
    {
      "cell_type": "code",
      "execution_count": null,
      "metadata": {
        "id": "N-ZiAYQ5Wvwo",
        "cellView": "form"
      },
      "outputs": [],
      "source": [
        "# クラスター数の設定、直接入力か右のスライダーを動かす\n",
        "cluster_num = 6 #@param {type:\"slider\", min:1, max:20, step:1}"
      ]
    },
    {
      "cell_type": "code",
      "execution_count": null,
      "metadata": {
        "colab": {
          "base_uri": "https://localhost:8080/"
        },
        "id": "6Ceq3mvv-y3p",
        "outputId": "c75c7893-a4be-4fbe-bd6e-7dfdc8790571"
      },
      "outputs": [
        {
          "output_type": "stream",
          "name": "stdout",
          "text": [
            "                 農業        林業        漁業  鉱業，採石業，砂利採取業    食料品製造業  飲料・たばこ・飼料製造業  \\\n",
            "札幌市中央区     0.034363  0.025611  0.000727      0.000885  0.242588      0.082848   \n",
            "札幌市北区      0.028707  0.032737  0.012312      0.001365  1.387698      0.390865   \n",
            "札幌市東区      0.026506  0.030493  0.010220      0.002885  2.575886      0.135652   \n",
            "札幌市白石区     0.267088  0.025028  0.003744      0.000865  4.868636      1.403412   \n",
            "札幌市豊平区     0.105884  0.076385  0.011970      0.000313  3.639315      0.093829   \n",
            "...             ...       ...       ...           ...       ...           ...   \n",
            "島尻郡久米島町    8.624165  0.000000  5.278103      0.005297  3.377777      4.052436   \n",
            "島尻郡八重瀬町    7.776462  0.000000  0.404909      1.353028  1.782315      1.375486   \n",
            "宮古郡多良間村   36.020908  0.000000  0.367669      0.012543  9.094203      0.109976   \n",
            "八重山郡竹富町   16.223775  0.146871  1.564199      0.010676  3.485240      1.096050   \n",
            "八重山郡与那国町   4.996822  0.000000  4.788285      0.015874  5.061372      5.141489   \n",
            "\n",
            "              繊維工業  木材・木製品製造業  家具・装備品製造業  パルプ・紙・紙加工品製造業  ...  自動車整備・機械修理  \\\n",
            "札幌市中央区    0.019396   0.000220   0.002233       0.043958  ...    2.400236   \n",
            "札幌市北区     0.048639   0.075839   0.068690       0.221139  ...    1.992795   \n",
            "札幌市東区     0.145371   0.020811   0.099254       0.091999  ...    1.029300   \n",
            "札幌市白石区    0.061803   0.128784   0.397181       0.196341  ...    1.014917   \n",
            "札幌市豊平区    0.032282   0.067392   0.087736       0.029411  ...    1.227461   \n",
            "...            ...        ...        ...            ...  ...         ...   \n",
            "島尻郡久米島町   0.120085   0.001685   0.042362       0.020428  ...    0.147439   \n",
            "島尻郡八重瀬町   0.066455   0.086087   0.164274       0.007353  ...    0.226165   \n",
            "宮古郡多良間村   0.000575   0.001197   0.000210       0.006214  ...    0.056543   \n",
            "八重山郡竹富町   0.025639   0.077101   0.001120       0.128547  ...    0.060909   \n",
            "八重山郡与那国町  0.116886   0.001985   0.000554       0.010016  ...    0.068268   \n",
            "\n",
            "          その他の対事業所サービス        宿泊業     飲食サービス  洗濯・理容・美容・浴場業    娯楽サービス  \\\n",
            "札幌市中央区        5.658848   1.067333   4.432394      0.385913  0.754407   \n",
            "札幌市北区         3.691585   0.415774   3.543819      0.460500  1.317687   \n",
            "札幌市東区         5.388076   0.079190   3.001269      0.839563  1.611126   \n",
            "札幌市白石区        3.544512   0.077874   2.564687      0.910173  1.171603   \n",
            "札幌市豊平区        4.228701   0.086981   3.533955      0.903046  2.284482   \n",
            "...                ...        ...        ...           ...       ...   \n",
            "島尻郡久米島町       1.026173   2.095447   2.959088      0.299832  0.974015   \n",
            "島尻郡八重瀬町       2.363886   0.011961   2.559941      1.975750  0.340453   \n",
            "宮古郡多良間村       0.237924   0.477656   0.837079      0.074658  0.095617   \n",
            "八重山郡竹富町       0.855307  20.729301  11.273585      0.127291  1.177672   \n",
            "八重山郡与那国町      0.177367   1.835377   3.653833      0.042770  0.199223   \n",
            "\n",
            "          その他の対個人サービス      分類不明        本社  class  \n",
            "札幌市中央区       1.340135  0.153361  4.375760      2  \n",
            "札幌市北区        0.482346  0.315292  6.604525      2  \n",
            "札幌市東区        0.347501  0.542597  5.891645      2  \n",
            "札幌市白石区       0.228065  0.828731  7.049573      2  \n",
            "札幌市豊平区       0.308810  0.371960  6.808048      2  \n",
            "...               ...       ...       ...    ...  \n",
            "島尻郡久米島町      0.069075  0.026342  2.601992      4  \n",
            "島尻郡八重瀬町      0.085018  0.211542  6.344817      2  \n",
            "宮古郡多良間村      0.008598  0.032585  0.462959      5  \n",
            "八重山郡竹富町      0.975563  0.057861  4.830207      5  \n",
            "八重山郡与那国町     0.036971  0.093497  3.014642      4  \n",
            "\n",
            "[1894 rows x 71 columns]\n",
            "各グループの平均値\n",
            "              農業        林業        漁業  鉱業，採石業，砂利採取業    食料品製造業  飲料・たばこ・飼料製造業  \\\n",
            "class                                                                        \n",
            "1       1.718001  0.289292  0.393428      0.233235  1.951524      0.827535   \n",
            "2       2.540899  0.280224  0.431988      0.194718  4.115249      1.247625   \n",
            "3       1.499729  0.333286  0.100646      0.056755  2.134598      0.704112   \n",
            "4       5.750233  2.171098  4.306628      0.516466  4.819883      1.244148   \n",
            "5      24.956850  1.332073  1.578771      0.279930  8.905468      2.103551   \n",
            "6       2.054505  0.208617  0.130906      0.236055  4.076855      2.298878   \n",
            "\n",
            "           繊維工業  木材・木製品製造業  家具・装備品製造業  パルプ・紙・紙加工品製造業  ...        広告  \\\n",
            "class                                                 ...             \n",
            "1      0.108723   0.417814   0.086793       0.411339  ...  0.011936   \n",
            "2      0.537954   0.457540   0.284074       0.684159  ...  0.159410   \n",
            "3      0.233101   0.211299   0.349468       0.335099  ...  0.028198   \n",
            "4      0.370252   1.290132   0.185153       0.204666  ...  0.018517   \n",
            "5      0.275599   1.182727   0.241559       0.245747  ...  0.008575   \n",
            "6      0.822062   0.442184   0.357126       1.895784  ...  0.034656   \n",
            "\n",
            "       自動車整備・機械修理  その他の対事業所サービス       宿泊業    飲食サービス  洗濯・理容・美容・浴場業    娯楽サービス  \\\n",
            "class                                                                         \n",
            "1        0.315330      1.004155  0.628851  1.217847      0.223376  0.333322   \n",
            "2        0.765186      2.445611  1.224608  3.555484      0.770351  1.231583   \n",
            "3        0.412913      1.375707  0.169433  1.392165      0.294900  0.473402   \n",
            "4        0.307073      0.848709  2.345170  2.838113      0.470492  0.624523   \n",
            "5        0.272572      0.950601  1.193708  2.040937      0.343973  0.497971   \n",
            "6        0.451111      1.209633  0.445161  1.842854      0.400326  0.700894   \n",
            "\n",
            "       その他の対個人サービス      分類不明        本社  \n",
            "class                                   \n",
            "1         0.076691  0.191432  1.623700  \n",
            "2         0.475994  0.722926  4.501709  \n",
            "3         0.169228  0.503824  2.872616  \n",
            "4         0.188782  0.377813  3.187054  \n",
            "5         0.185774  0.342077  2.929512  \n",
            "6         0.220055  0.865676  3.135791  \n",
            "\n",
            "[6 rows x 70 columns]\n"
          ]
        }
      ],
      "source": [
        "# ライブラリのインポート\n",
        "import pandas as pd\n",
        "from sklearn.cluster import KMeans\n",
        "\n",
        "# データの読み込み\n",
        "df = pd.read_csv( file_name , encoding=\"SHIFT-JIS\", thousands=',', index_col=0)\n",
        "\n",
        "# KMeansメソッドの実行\n",
        "clu = KMeans(n_clusters= cluster_num)\n",
        "df[\"class\"] = clu.fit_predict(df)\n",
        "df=df.replace({'class': {0: int(cluster_num)}}) # 1スタートにする\n",
        "# print(df)\n",
        "\n",
        "# クラス分け結果の出力 class_all.csv\n",
        "df.to_csv ( 'class_all.csv' , encoding=\"SHIFT-JIS\")\n",
        "\n",
        "# クラス分け結果のみ出力 class_list.csv\n",
        "df[\"class\"].to_csv ( 'class_list.csv' , encoding=\"SHIFT-JIS\")\n",
        "\n",
        "# 各グループの平均値 class_average.csv\n",
        "print('各グループの平均値')\n",
        "print(df.groupby(\"class\").mean())\n",
        "a=df.groupby(\"class\").mean()\n",
        "a.to_csv('class_average.csv',encoding=\"SHIFT-JIS\")"
      ]
    },
    {
      "cell_type": "code",
      "source": [
        "# 各クラスターのデータ数\n",
        "for num in range(1,cluster_num+1):\n",
        "  sum=(df[\"class\"] == num).sum()\n",
        "  print(f\"{num}:{sum}\")"
      ],
      "metadata": {
        "colab": {
          "base_uri": "https://localhost:8080/"
        },
        "id": "5RF2bkuJTiW5",
        "outputId": "d5e93778-ff54-4da8-fb59-01599f17d189"
      },
      "execution_count": null,
      "outputs": [
        {
          "output_type": "stream",
          "name": "stdout",
          "text": [
            "1:43\n",
            "2:823\n",
            "3:70\n",
            "4:294\n",
            "5:207\n",
            "6:457\n"
          ]
        }
      ]
    },
    {
      "cell_type": "code",
      "source": [
        "# df.groupby(\"class\").count()"
      ],
      "metadata": {
        "id": "RgQ0_0nfnoRM"
      },
      "execution_count": null,
      "outputs": []
    }
  ],
  "metadata": {
    "colab": {
      "collapsed_sections": [],
      "name": "k-means.ipynb",
      "provenance": [],
      "authorship_tag": "ABX9TyObR6YgSSJJcf1gwVZH4pbE",
      "include_colab_link": true
    },
    "gpuClass": "standard",
    "kernelspec": {
      "display_name": "Python 3.9.12 ('base')",
      "language": "python",
      "name": "python3"
    },
    "language_info": {
      "name": "python",
      "version": "3.9.12"
    },
    "vscode": {
      "interpreter": {
        "hash": "6155d337695d8a8b6f81de1b148fcc5cd5fd9f019d4a85ecf2e0c2616356c7fb"
      }
    }
  },
  "nbformat": 4,
  "nbformat_minor": 0
}